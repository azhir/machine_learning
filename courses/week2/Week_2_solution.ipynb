{
 "cells": [
  {
   "cell_type": "markdown",
   "metadata": {},
   "source": [
    "# Week 2: (possible) solutions"
   ]
  },
  {
   "cell_type": "code",
   "execution_count": 1,
   "metadata": {},
   "outputs": [],
   "source": [
    "import pandas as pd\n",
    "import numpy as np"
   ]
  },
  {
   "cell_type": "markdown",
   "metadata": {},
   "source": [
    "## 2) load the data"
   ]
  },
  {
   "cell_type": "code",
   "execution_count": 2,
   "metadata": {},
   "outputs": [
    {
     "data": {
      "text/html": [
       "<div>\n",
       "<style scoped>\n",
       "    .dataframe tbody tr th:only-of-type {\n",
       "        vertical-align: middle;\n",
       "    }\n",
       "\n",
       "    .dataframe tbody tr th {\n",
       "        vertical-align: top;\n",
       "    }\n",
       "\n",
       "    .dataframe thead th {\n",
       "        text-align: right;\n",
       "    }\n",
       "</style>\n",
       "<table border=\"1\" class=\"dataframe\">\n",
       "  <thead>\n",
       "    <tr style=\"text-align: right;\">\n",
       "      <th></th>\n",
       "      <th>ADAS13</th>\n",
       "      <th>AGE</th>\n",
       "      <th>Ventricles</th>\n",
       "      <th>Hippocampus</th>\n",
       "      <th>Entorhinal</th>\n",
       "      <th>Fusiform</th>\n",
       "      <th>APOE4</th>\n",
       "      <th>FDG</th>\n",
       "      <th>AV45</th>\n",
       "    </tr>\n",
       "  </thead>\n",
       "  <tbody>\n",
       "    <tr>\n",
       "      <th>12445</th>\n",
       "      <td>11</td>\n",
       "      <td>75.2</td>\n",
       "      <td>0.024937</td>\n",
       "      <td>0.003697</td>\n",
       "      <td>0.001676</td>\n",
       "      <td>0.012918</td>\n",
       "      <td>1</td>\n",
       "      <td>1.267128</td>\n",
       "      <td>1.129134</td>\n",
       "    </tr>\n",
       "    <tr>\n",
       "      <th>12541</th>\n",
       "      <td>17</td>\n",
       "      <td>61.9</td>\n",
       "      <td>0.015415</td>\n",
       "      <td>0.004701</td>\n",
       "      <td>0.001899</td>\n",
       "      <td>0.012774</td>\n",
       "      <td>2</td>\n",
       "      <td>0.734814</td>\n",
       "      <td>1.353690</td>\n",
       "    </tr>\n",
       "    <tr>\n",
       "      <th>8174</th>\n",
       "      <td>15</td>\n",
       "      <td>69.1</td>\n",
       "      <td>0.018987</td>\n",
       "      <td>0.003528</td>\n",
       "      <td>0.002021</td>\n",
       "      <td>0.012914</td>\n",
       "      <td>2</td>\n",
       "      <td>1.272141</td>\n",
       "      <td>1.335521</td>\n",
       "    </tr>\n",
       "    <tr>\n",
       "      <th>11928</th>\n",
       "      <td>27</td>\n",
       "      <td>76.0</td>\n",
       "      <td>0.013188</td>\n",
       "      <td>0.004726</td>\n",
       "      <td>0.002964</td>\n",
       "      <td>0.014040</td>\n",
       "      <td>1</td>\n",
       "      <td>1.224176</td>\n",
       "      <td>1.365338</td>\n",
       "    </tr>\n",
       "    <tr>\n",
       "      <th>10642</th>\n",
       "      <td>16</td>\n",
       "      <td>64.2</td>\n",
       "      <td>0.017397</td>\n",
       "      <td>0.005208</td>\n",
       "      <td>0.002557</td>\n",
       "      <td>0.014133</td>\n",
       "      <td>0</td>\n",
       "      <td>1.287984</td>\n",
       "      <td>0.956359</td>\n",
       "    </tr>\n",
       "  </tbody>\n",
       "</table>\n",
       "</div>"
      ],
      "text/plain": [
       "       ADAS13   AGE  Ventricles  Hippocampus  Entorhinal  Fusiform  APOE4  \\\n",
       "12445      11  75.2    0.024937     0.003697    0.001676  0.012918      1   \n",
       "12541      17  61.9    0.015415     0.004701    0.001899  0.012774      2   \n",
       "8174       15  69.1    0.018987     0.003528    0.002021  0.012914      2   \n",
       "11928      27  76.0    0.013188     0.004726    0.002964  0.014040      1   \n",
       "10642      16  64.2    0.017397     0.005208    0.002557  0.014133      0   \n",
       "\n",
       "            FDG      AV45  \n",
       "12445  1.267128  1.129134  \n",
       "12541  0.734814  1.353690  \n",
       "8174   1.272141  1.335521  \n",
       "11928  1.224176  1.365338  \n",
       "10642  1.287984  0.956359  "
      ]
     },
     "execution_count": 2,
     "metadata": {},
     "output_type": "execute_result"
    }
   ],
   "source": [
    "#load the training data\n",
    "training = pd.read_csv('adni_adas13_train.csv', index_col=0)\n",
    "training.head()"
   ]
  },
  {
   "cell_type": "code",
   "execution_count": 3,
   "metadata": {},
   "outputs": [
    {
     "data": {
      "text/html": [
       "<div>\n",
       "<style scoped>\n",
       "    .dataframe tbody tr th:only-of-type {\n",
       "        vertical-align: middle;\n",
       "    }\n",
       "\n",
       "    .dataframe tbody tr th {\n",
       "        vertical-align: top;\n",
       "    }\n",
       "\n",
       "    .dataframe thead th {\n",
       "        text-align: right;\n",
       "    }\n",
       "</style>\n",
       "<table border=\"1\" class=\"dataframe\">\n",
       "  <thead>\n",
       "    <tr style=\"text-align: right;\">\n",
       "      <th></th>\n",
       "      <th>ADAS13</th>\n",
       "      <th>AGE</th>\n",
       "      <th>Ventricles</th>\n",
       "      <th>Hippocampus</th>\n",
       "      <th>Entorhinal</th>\n",
       "      <th>Fusiform</th>\n",
       "      <th>APOE4</th>\n",
       "      <th>FDG</th>\n",
       "      <th>AV45</th>\n",
       "    </tr>\n",
       "  </thead>\n",
       "  <tbody>\n",
       "    <tr>\n",
       "      <th>count</th>\n",
       "      <td>180.00000</td>\n",
       "      <td>180.000000</td>\n",
       "      <td>180.000000</td>\n",
       "      <td>180.000000</td>\n",
       "      <td>180.000000</td>\n",
       "      <td>180.000000</td>\n",
       "      <td>180.000000</td>\n",
       "      <td>180.000000</td>\n",
       "      <td>180.000000</td>\n",
       "    </tr>\n",
       "    <tr>\n",
       "      <th>mean</th>\n",
       "      <td>15.50000</td>\n",
       "      <td>71.388889</td>\n",
       "      <td>0.024268</td>\n",
       "      <td>0.004634</td>\n",
       "      <td>0.002394</td>\n",
       "      <td>0.012155</td>\n",
       "      <td>0.511111</td>\n",
       "      <td>1.248531</td>\n",
       "      <td>1.214090</td>\n",
       "    </tr>\n",
       "    <tr>\n",
       "      <th>std</th>\n",
       "      <td>6.75716</td>\n",
       "      <td>7.479625</td>\n",
       "      <td>0.012270</td>\n",
       "      <td>0.000792</td>\n",
       "      <td>0.000447</td>\n",
       "      <td>0.001530</td>\n",
       "      <td>0.638512</td>\n",
       "      <td>0.140370</td>\n",
       "      <td>0.223049</td>\n",
       "    </tr>\n",
       "    <tr>\n",
       "      <th>min</th>\n",
       "      <td>3.00000</td>\n",
       "      <td>55.000000</td>\n",
       "      <td>0.005655</td>\n",
       "      <td>0.002788</td>\n",
       "      <td>0.001061</td>\n",
       "      <td>0.008111</td>\n",
       "      <td>0.000000</td>\n",
       "      <td>0.734814</td>\n",
       "      <td>0.838537</td>\n",
       "    </tr>\n",
       "    <tr>\n",
       "      <th>25%</th>\n",
       "      <td>10.75000</td>\n",
       "      <td>65.700000</td>\n",
       "      <td>0.014136</td>\n",
       "      <td>0.004119</td>\n",
       "      <td>0.002085</td>\n",
       "      <td>0.011178</td>\n",
       "      <td>0.000000</td>\n",
       "      <td>1.157186</td>\n",
       "      <td>1.020980</td>\n",
       "    </tr>\n",
       "    <tr>\n",
       "      <th>50%</th>\n",
       "      <td>14.50000</td>\n",
       "      <td>71.950000</td>\n",
       "      <td>0.021688</td>\n",
       "      <td>0.004624</td>\n",
       "      <td>0.002432</td>\n",
       "      <td>0.012132</td>\n",
       "      <td>0.000000</td>\n",
       "      <td>1.249185</td>\n",
       "      <td>1.164001</td>\n",
       "    </tr>\n",
       "    <tr>\n",
       "      <th>75%</th>\n",
       "      <td>19.00000</td>\n",
       "      <td>76.725000</td>\n",
       "      <td>0.030556</td>\n",
       "      <td>0.005210</td>\n",
       "      <td>0.002674</td>\n",
       "      <td>0.012998</td>\n",
       "      <td>1.000000</td>\n",
       "      <td>1.332481</td>\n",
       "      <td>1.411758</td>\n",
       "    </tr>\n",
       "    <tr>\n",
       "      <th>max</th>\n",
       "      <td>38.00000</td>\n",
       "      <td>88.600000</td>\n",
       "      <td>0.063894</td>\n",
       "      <td>0.006705</td>\n",
       "      <td>0.003759</td>\n",
       "      <td>0.017320</td>\n",
       "      <td>2.000000</td>\n",
       "      <td>1.701126</td>\n",
       "      <td>1.845984</td>\n",
       "    </tr>\n",
       "  </tbody>\n",
       "</table>\n",
       "</div>"
      ],
      "text/plain": [
       "          ADAS13         AGE  Ventricles  Hippocampus  Entorhinal    Fusiform  \\\n",
       "count  180.00000  180.000000  180.000000   180.000000  180.000000  180.000000   \n",
       "mean    15.50000   71.388889    0.024268     0.004634    0.002394    0.012155   \n",
       "std      6.75716    7.479625    0.012270     0.000792    0.000447    0.001530   \n",
       "min      3.00000   55.000000    0.005655     0.002788    0.001061    0.008111   \n",
       "25%     10.75000   65.700000    0.014136     0.004119    0.002085    0.011178   \n",
       "50%     14.50000   71.950000    0.021688     0.004624    0.002432    0.012132   \n",
       "75%     19.00000   76.725000    0.030556     0.005210    0.002674    0.012998   \n",
       "max     38.00000   88.600000    0.063894     0.006705    0.003759    0.017320   \n",
       "\n",
       "            APOE4         FDG        AV45  \n",
       "count  180.000000  180.000000  180.000000  \n",
       "mean     0.511111    1.248531    1.214090  \n",
       "std      0.638512    0.140370    0.223049  \n",
       "min      0.000000    0.734814    0.838537  \n",
       "25%      0.000000    1.157186    1.020980  \n",
       "50%      0.000000    1.249185    1.164001  \n",
       "75%      1.000000    1.332481    1.411758  \n",
       "max      2.000000    1.701126    1.845984  "
      ]
     },
     "execution_count": 3,
     "metadata": {},
     "output_type": "execute_result"
    }
   ],
   "source": [
    "training.describe()"
   ]
  },
  {
   "cell_type": "markdown",
   "metadata": {},
   "source": [
    "## 3) Split the data into X and Y"
   ]
  },
  {
   "cell_type": "code",
   "execution_count": 4,
   "metadata": {},
   "outputs": [],
   "source": [
    "Y_train = training.ADAS13\n",
    "X_train = training.loc[:,\"AGE\":\"AV45\"]"
   ]
  },
  {
   "cell_type": "markdown",
   "metadata": {},
   "source": [
    "## 4) Scale the features using the StandardScaler"
   ]
  },
  {
   "cell_type": "code",
   "execution_count": 5,
   "metadata": {},
   "outputs": [],
   "source": [
    "from sklearn.preprocessing import StandardScaler\n",
    "scaler = StandardScaler()"
   ]
  },
  {
   "cell_type": "code",
   "execution_count": 6,
   "metadata": {},
   "outputs": [
    {
     "data": {
      "text/plain": [
       "StandardScaler(copy=True, with_mean=True, with_std=True)"
      ]
     },
     "execution_count": 6,
     "metadata": {},
     "output_type": "execute_result"
    }
   ],
   "source": [
    "#this estimates now mean and SD for each column of X_train\n",
    "scaler.fit(X_train)"
   ]
  },
  {
   "cell_type": "code",
   "execution_count": 7,
   "metadata": {},
   "outputs": [],
   "source": [
    "X_scaled = scaler.transform(X_train)"
   ]
  },
  {
   "cell_type": "code",
   "execution_count": 8,
   "metadata": {},
   "outputs": [
    {
     "data": {
      "text/html": [
       "<div>\n",
       "<style scoped>\n",
       "    .dataframe tbody tr th:only-of-type {\n",
       "        vertical-align: middle;\n",
       "    }\n",
       "\n",
       "    .dataframe tbody tr th {\n",
       "        vertical-align: top;\n",
       "    }\n",
       "\n",
       "    .dataframe thead th {\n",
       "        text-align: right;\n",
       "    }\n",
       "</style>\n",
       "<table border=\"1\" class=\"dataframe\">\n",
       "  <thead>\n",
       "    <tr style=\"text-align: right;\">\n",
       "      <th></th>\n",
       "      <th>0</th>\n",
       "      <th>1</th>\n",
       "      <th>2</th>\n",
       "      <th>3</th>\n",
       "      <th>4</th>\n",
       "      <th>5</th>\n",
       "      <th>6</th>\n",
       "      <th>7</th>\n",
       "    </tr>\n",
       "  </thead>\n",
       "  <tbody>\n",
       "    <tr>\n",
       "      <th>count</th>\n",
       "      <td>1.800000e+02</td>\n",
       "      <td>1.800000e+02</td>\n",
       "      <td>1.800000e+02</td>\n",
       "      <td>1.800000e+02</td>\n",
       "      <td>1.800000e+02</td>\n",
       "      <td>1.800000e+02</td>\n",
       "      <td>1.800000e+02</td>\n",
       "      <td>1.800000e+02</td>\n",
       "    </tr>\n",
       "    <tr>\n",
       "      <th>mean</th>\n",
       "      <td>3.947460e-16</td>\n",
       "      <td>-9.621933e-17</td>\n",
       "      <td>-7.691378e-16</td>\n",
       "      <td>6.661338e-16</td>\n",
       "      <td>2.679338e-15</td>\n",
       "      <td>8.511710e-17</td>\n",
       "      <td>-5.427757e-17</td>\n",
       "      <td>1.120092e-15</td>\n",
       "    </tr>\n",
       "    <tr>\n",
       "      <th>std</th>\n",
       "      <td>1.002789e+00</td>\n",
       "      <td>1.002789e+00</td>\n",
       "      <td>1.002789e+00</td>\n",
       "      <td>1.002789e+00</td>\n",
       "      <td>1.002789e+00</td>\n",
       "      <td>1.002789e+00</td>\n",
       "      <td>1.002789e+00</td>\n",
       "      <td>1.002789e+00</td>\n",
       "    </tr>\n",
       "    <tr>\n",
       "      <th>min</th>\n",
       "      <td>-2.197250e+00</td>\n",
       "      <td>-1.521167e+00</td>\n",
       "      <td>-2.337437e+00</td>\n",
       "      <td>-2.986681e+00</td>\n",
       "      <td>-2.649747e+00</td>\n",
       "      <td>-8.027055e-01</td>\n",
       "      <td>-3.669936e+00</td>\n",
       "      <td>-1.688420e+00</td>\n",
       "    </tr>\n",
       "    <tr>\n",
       "      <th>25%</th>\n",
       "      <td>-7.627063e-01</td>\n",
       "      <td>-8.280482e-01</td>\n",
       "      <td>-6.513700e-01</td>\n",
       "      <td>-6.926481e-01</td>\n",
       "      <td>-6.404242e-01</td>\n",
       "      <td>-8.027055e-01</td>\n",
       "      <td>-6.525596e-01</td>\n",
       "      <td>-8.681903e-01</td>\n",
       "    </tr>\n",
       "    <tr>\n",
       "      <th>50%</th>\n",
       "      <td>7.522787e-02</td>\n",
       "      <td>-2.108656e-01</td>\n",
       "      <td>-1.198528e-02</td>\n",
       "      <td>8.421886e-02</td>\n",
       "      <td>-1.544132e-02</td>\n",
       "      <td>-8.027055e-01</td>\n",
       "      <td>4.667514e-03</td>\n",
       "      <td>-2.251914e-01</td>\n",
       "    </tr>\n",
       "    <tr>\n",
       "      <th>75%</th>\n",
       "      <td>7.154096e-01</td>\n",
       "      <td>5.138831e-01</td>\n",
       "      <td>7.303251e-01</td>\n",
       "      <td>6.269722e-01</td>\n",
       "      <td>5.522323e-01</td>\n",
       "      <td>7.678053e-01</td>\n",
       "      <td>5.997252e-01</td>\n",
       "      <td>8.886832e-01</td>\n",
       "    </tr>\n",
       "    <tr>\n",
       "      <th>max</th>\n",
       "      <td>2.307485e+00</td>\n",
       "      <td>3.238465e+00</td>\n",
       "      <td>2.622680e+00</td>\n",
       "      <td>3.058276e+00</td>\n",
       "      <td>3.384363e+00</td>\n",
       "      <td>2.338316e+00</td>\n",
       "      <td>3.233287e+00</td>\n",
       "      <td>2.840883e+00</td>\n",
       "    </tr>\n",
       "  </tbody>\n",
       "</table>\n",
       "</div>"
      ],
      "text/plain": [
       "                  0             1             2             3             4  \\\n",
       "count  1.800000e+02  1.800000e+02  1.800000e+02  1.800000e+02  1.800000e+02   \n",
       "mean   3.947460e-16 -9.621933e-17 -7.691378e-16  6.661338e-16  2.679338e-15   \n",
       "std    1.002789e+00  1.002789e+00  1.002789e+00  1.002789e+00  1.002789e+00   \n",
       "min   -2.197250e+00 -1.521167e+00 -2.337437e+00 -2.986681e+00 -2.649747e+00   \n",
       "25%   -7.627063e-01 -8.280482e-01 -6.513700e-01 -6.926481e-01 -6.404242e-01   \n",
       "50%    7.522787e-02 -2.108656e-01 -1.198528e-02  8.421886e-02 -1.544132e-02   \n",
       "75%    7.154096e-01  5.138831e-01  7.303251e-01  6.269722e-01  5.522323e-01   \n",
       "max    2.307485e+00  3.238465e+00  2.622680e+00  3.058276e+00  3.384363e+00   \n",
       "\n",
       "                  5             6             7  \n",
       "count  1.800000e+02  1.800000e+02  1.800000e+02  \n",
       "mean   8.511710e-17 -5.427757e-17  1.120092e-15  \n",
       "std    1.002789e+00  1.002789e+00  1.002789e+00  \n",
       "min   -8.027055e-01 -3.669936e+00 -1.688420e+00  \n",
       "25%   -8.027055e-01 -6.525596e-01 -8.681903e-01  \n",
       "50%   -8.027055e-01  4.667514e-03 -2.251914e-01  \n",
       "75%    7.678053e-01  5.997252e-01  8.886832e-01  \n",
       "max    2.338316e+00  3.233287e+00  2.840883e+00  "
      ]
     },
     "execution_count": 8,
     "metadata": {},
     "output_type": "execute_result"
    }
   ],
   "source": [
    "#check if it worked\n",
    "pd.DataFrame(X_scaled).describe()\n",
    "#all means are close to 0 and all std is close to 1. we are good to progress"
   ]
  },
  {
   "cell_type": "code",
   "execution_count": 9,
   "metadata": {},
   "outputs": [],
   "source": [
    "#as we noticed, X_scaled is no longer a dataframe and we've lost the column names (names of the features), let's put that back\n",
    "X_scaled = pd.DataFrame(X_scaled)\n",
    "X_scaled.columns = X_train.columns"
   ]
  },
  {
   "cell_type": "code",
   "execution_count": 10,
   "metadata": {},
   "outputs": [
    {
     "data": {
      "text/html": [
       "<div>\n",
       "<style scoped>\n",
       "    .dataframe tbody tr th:only-of-type {\n",
       "        vertical-align: middle;\n",
       "    }\n",
       "\n",
       "    .dataframe tbody tr th {\n",
       "        vertical-align: top;\n",
       "    }\n",
       "\n",
       "    .dataframe thead th {\n",
       "        text-align: right;\n",
       "    }\n",
       "</style>\n",
       "<table border=\"1\" class=\"dataframe\">\n",
       "  <thead>\n",
       "    <tr style=\"text-align: right;\">\n",
       "      <th></th>\n",
       "      <th>AGE</th>\n",
       "      <th>Ventricles</th>\n",
       "      <th>Hippocampus</th>\n",
       "      <th>Entorhinal</th>\n",
       "      <th>Fusiform</th>\n",
       "      <th>APOE4</th>\n",
       "      <th>FDG</th>\n",
       "      <th>AV45</th>\n",
       "    </tr>\n",
       "  </thead>\n",
       "  <tbody>\n",
       "    <tr>\n",
       "      <th>count</th>\n",
       "      <td>1.800000e+02</td>\n",
       "      <td>1.800000e+02</td>\n",
       "      <td>1.800000e+02</td>\n",
       "      <td>1.800000e+02</td>\n",
       "      <td>1.800000e+02</td>\n",
       "      <td>1.800000e+02</td>\n",
       "      <td>1.800000e+02</td>\n",
       "      <td>1.800000e+02</td>\n",
       "    </tr>\n",
       "    <tr>\n",
       "      <th>mean</th>\n",
       "      <td>3.947460e-16</td>\n",
       "      <td>-9.621933e-17</td>\n",
       "      <td>-7.691378e-16</td>\n",
       "      <td>6.661338e-16</td>\n",
       "      <td>2.679338e-15</td>\n",
       "      <td>8.511710e-17</td>\n",
       "      <td>-5.427757e-17</td>\n",
       "      <td>1.120092e-15</td>\n",
       "    </tr>\n",
       "    <tr>\n",
       "      <th>std</th>\n",
       "      <td>1.002789e+00</td>\n",
       "      <td>1.002789e+00</td>\n",
       "      <td>1.002789e+00</td>\n",
       "      <td>1.002789e+00</td>\n",
       "      <td>1.002789e+00</td>\n",
       "      <td>1.002789e+00</td>\n",
       "      <td>1.002789e+00</td>\n",
       "      <td>1.002789e+00</td>\n",
       "    </tr>\n",
       "    <tr>\n",
       "      <th>min</th>\n",
       "      <td>-2.197250e+00</td>\n",
       "      <td>-1.521167e+00</td>\n",
       "      <td>-2.337437e+00</td>\n",
       "      <td>-2.986681e+00</td>\n",
       "      <td>-2.649747e+00</td>\n",
       "      <td>-8.027055e-01</td>\n",
       "      <td>-3.669936e+00</td>\n",
       "      <td>-1.688420e+00</td>\n",
       "    </tr>\n",
       "    <tr>\n",
       "      <th>25%</th>\n",
       "      <td>-7.627063e-01</td>\n",
       "      <td>-8.280482e-01</td>\n",
       "      <td>-6.513700e-01</td>\n",
       "      <td>-6.926481e-01</td>\n",
       "      <td>-6.404242e-01</td>\n",
       "      <td>-8.027055e-01</td>\n",
       "      <td>-6.525596e-01</td>\n",
       "      <td>-8.681903e-01</td>\n",
       "    </tr>\n",
       "    <tr>\n",
       "      <th>50%</th>\n",
       "      <td>7.522787e-02</td>\n",
       "      <td>-2.108656e-01</td>\n",
       "      <td>-1.198528e-02</td>\n",
       "      <td>8.421886e-02</td>\n",
       "      <td>-1.544132e-02</td>\n",
       "      <td>-8.027055e-01</td>\n",
       "      <td>4.667514e-03</td>\n",
       "      <td>-2.251914e-01</td>\n",
       "    </tr>\n",
       "    <tr>\n",
       "      <th>75%</th>\n",
       "      <td>7.154096e-01</td>\n",
       "      <td>5.138831e-01</td>\n",
       "      <td>7.303251e-01</td>\n",
       "      <td>6.269722e-01</td>\n",
       "      <td>5.522323e-01</td>\n",
       "      <td>7.678053e-01</td>\n",
       "      <td>5.997252e-01</td>\n",
       "      <td>8.886832e-01</td>\n",
       "    </tr>\n",
       "    <tr>\n",
       "      <th>max</th>\n",
       "      <td>2.307485e+00</td>\n",
       "      <td>3.238465e+00</td>\n",
       "      <td>2.622680e+00</td>\n",
       "      <td>3.058276e+00</td>\n",
       "      <td>3.384363e+00</td>\n",
       "      <td>2.338316e+00</td>\n",
       "      <td>3.233287e+00</td>\n",
       "      <td>2.840883e+00</td>\n",
       "    </tr>\n",
       "  </tbody>\n",
       "</table>\n",
       "</div>"
      ],
      "text/plain": [
       "                AGE    Ventricles   Hippocampus    Entorhinal      Fusiform  \\\n",
       "count  1.800000e+02  1.800000e+02  1.800000e+02  1.800000e+02  1.800000e+02   \n",
       "mean   3.947460e-16 -9.621933e-17 -7.691378e-16  6.661338e-16  2.679338e-15   \n",
       "std    1.002789e+00  1.002789e+00  1.002789e+00  1.002789e+00  1.002789e+00   \n",
       "min   -2.197250e+00 -1.521167e+00 -2.337437e+00 -2.986681e+00 -2.649747e+00   \n",
       "25%   -7.627063e-01 -8.280482e-01 -6.513700e-01 -6.926481e-01 -6.404242e-01   \n",
       "50%    7.522787e-02 -2.108656e-01 -1.198528e-02  8.421886e-02 -1.544132e-02   \n",
       "75%    7.154096e-01  5.138831e-01  7.303251e-01  6.269722e-01  5.522323e-01   \n",
       "max    2.307485e+00  3.238465e+00  2.622680e+00  3.058276e+00  3.384363e+00   \n",
       "\n",
       "              APOE4           FDG          AV45  \n",
       "count  1.800000e+02  1.800000e+02  1.800000e+02  \n",
       "mean   8.511710e-17 -5.427757e-17  1.120092e-15  \n",
       "std    1.002789e+00  1.002789e+00  1.002789e+00  \n",
       "min   -8.027055e-01 -3.669936e+00 -1.688420e+00  \n",
       "25%   -8.027055e-01 -6.525596e-01 -8.681903e-01  \n",
       "50%   -8.027055e-01  4.667514e-03 -2.251914e-01  \n",
       "75%    7.678053e-01  5.997252e-01  8.886832e-01  \n",
       "max    2.338316e+00  3.233287e+00  2.840883e+00  "
      ]
     },
     "execution_count": 10,
     "metadata": {},
     "output_type": "execute_result"
    }
   ],
   "source": [
    "X_scaled.describe()"
   ]
  },
  {
   "cell_type": "markdown",
   "metadata": {},
   "source": [
    "## 5) Train a linear regression model"
   ]
  },
  {
   "cell_type": "code",
   "execution_count": 11,
   "metadata": {},
   "outputs": [],
   "source": [
    "from sklearn.linear_model import LinearRegression"
   ]
  },
  {
   "cell_type": "code",
   "execution_count": 12,
   "metadata": {},
   "outputs": [],
   "source": [
    "lin_mod = LinearRegression()"
   ]
  },
  {
   "cell_type": "code",
   "execution_count": 13,
   "metadata": {},
   "outputs": [
    {
     "data": {
      "text/plain": [
       "LinearRegression(copy_X=True, fit_intercept=True, n_jobs=None, normalize=False)"
      ]
     },
     "execution_count": 13,
     "metadata": {},
     "output_type": "execute_result"
    }
   ],
   "source": [
    "#this trains the linear model\n",
    "lin_mod.fit(X_scaled, Y_train)"
   ]
  },
  {
   "cell_type": "markdown",
   "metadata": {},
   "source": [
    "Now let's inspect the coefficients - the first one is the intercept $\\beta_1$ the following ones are $\\beta_2, \\dots, \\beta_8$, there are no names, but the coefficients are the same as in the input order (Age, ..., AV45)."
   ]
  },
  {
   "cell_type": "code",
   "execution_count": 14,
   "metadata": {},
   "outputs": [
    {
     "data": {
      "text/plain": [
       "array([ 0.33286289,  0.67184723, -0.96767835, -1.07218495, -0.10925061,\n",
       "        0.73339078, -1.59366451,  1.2142151 ])"
      ]
     },
     "execution_count": 14,
     "metadata": {},
     "output_type": "execute_result"
    }
   ],
   "source": [
    "lin_mod.coef_"
   ]
  },
  {
   "cell_type": "markdown",
   "metadata": {},
   "source": [
    "To get the intercept ($\\beta_0$) we use:"
   ]
  },
  {
   "cell_type": "code",
   "execution_count": 15,
   "metadata": {},
   "outputs": [
    {
     "data": {
      "text/plain": [
       "15.499999999999998"
      ]
     },
     "execution_count": 15,
     "metadata": {},
     "output_type": "execute_result"
    }
   ],
   "source": [
    "lin_mod.intercept_"
   ]
  },
  {
   "cell_type": "markdown",
   "metadata": {},
   "source": [
    "## Apply the model to the test data"
   ]
  },
  {
   "cell_type": "code",
   "execution_count": 16,
   "metadata": {},
   "outputs": [],
   "source": [
    "#load the test data\n",
    "testing = pd.read_csv('adni_adas13_test.csv', index_col=0)"
   ]
  },
  {
   "cell_type": "code",
   "execution_count": 17,
   "metadata": {},
   "outputs": [
    {
     "data": {
      "text/html": [
       "<div>\n",
       "<style scoped>\n",
       "    .dataframe tbody tr th:only-of-type {\n",
       "        vertical-align: middle;\n",
       "    }\n",
       "\n",
       "    .dataframe tbody tr th {\n",
       "        vertical-align: top;\n",
       "    }\n",
       "\n",
       "    .dataframe thead th {\n",
       "        text-align: right;\n",
       "    }\n",
       "</style>\n",
       "<table border=\"1\" class=\"dataframe\">\n",
       "  <thead>\n",
       "    <tr style=\"text-align: right;\">\n",
       "      <th></th>\n",
       "      <th>ADAS13</th>\n",
       "      <th>AGE</th>\n",
       "      <th>Ventricles</th>\n",
       "      <th>Hippocampus</th>\n",
       "      <th>Entorhinal</th>\n",
       "      <th>Fusiform</th>\n",
       "      <th>APOE4</th>\n",
       "      <th>FDG</th>\n",
       "      <th>AV45</th>\n",
       "    </tr>\n",
       "  </thead>\n",
       "  <tbody>\n",
       "    <tr>\n",
       "      <th>7144</th>\n",
       "      <td>6</td>\n",
       "      <td>62.9</td>\n",
       "      <td>0.011369</td>\n",
       "      <td>0.005746</td>\n",
       "      <td>0.002457</td>\n",
       "      <td>0.012014</td>\n",
       "      <td>1</td>\n",
       "      <td>1.312115</td>\n",
       "      <td>1.147285</td>\n",
       "    </tr>\n",
       "    <tr>\n",
       "      <th>7154</th>\n",
       "      <td>7</td>\n",
       "      <td>69.9</td>\n",
       "      <td>0.025968</td>\n",
       "      <td>0.004625</td>\n",
       "      <td>0.002682</td>\n",
       "      <td>0.014716</td>\n",
       "      <td>0</td>\n",
       "      <td>1.455720</td>\n",
       "      <td>1.053793</td>\n",
       "    </tr>\n",
       "    <tr>\n",
       "      <th>7165</th>\n",
       "      <td>6</td>\n",
       "      <td>66.0</td>\n",
       "      <td>0.011164</td>\n",
       "      <td>0.005347</td>\n",
       "      <td>0.002483</td>\n",
       "      <td>0.011678</td>\n",
       "      <td>1</td>\n",
       "      <td>1.203127</td>\n",
       "      <td>1.313591</td>\n",
       "    </tr>\n",
       "    <tr>\n",
       "      <th>7183</th>\n",
       "      <td>6</td>\n",
       "      <td>61.9</td>\n",
       "      <td>0.011530</td>\n",
       "      <td>0.005543</td>\n",
       "      <td>0.002834</td>\n",
       "      <td>0.014100</td>\n",
       "      <td>0</td>\n",
       "      <td>1.408065</td>\n",
       "      <td>1.029976</td>\n",
       "    </tr>\n",
       "    <tr>\n",
       "      <th>7190</th>\n",
       "      <td>10</td>\n",
       "      <td>72.5</td>\n",
       "      <td>0.038966</td>\n",
       "      <td>0.004788</td>\n",
       "      <td>0.002424</td>\n",
       "      <td>0.012447</td>\n",
       "      <td>0</td>\n",
       "      <td>1.340443</td>\n",
       "      <td>0.993989</td>\n",
       "    </tr>\n",
       "  </tbody>\n",
       "</table>\n",
       "</div>"
      ],
      "text/plain": [
       "      ADAS13   AGE  Ventricles  Hippocampus  Entorhinal  Fusiform  APOE4  \\\n",
       "7144       6  62.9    0.011369     0.005746    0.002457  0.012014      1   \n",
       "7154       7  69.9    0.025968     0.004625    0.002682  0.014716      0   \n",
       "7165       6  66.0    0.011164     0.005347    0.002483  0.011678      1   \n",
       "7183       6  61.9    0.011530     0.005543    0.002834  0.014100      0   \n",
       "7190      10  72.5    0.038966     0.004788    0.002424  0.012447      0   \n",
       "\n",
       "           FDG      AV45  \n",
       "7144  1.312115  1.147285  \n",
       "7154  1.455720  1.053793  \n",
       "7165  1.203127  1.313591  \n",
       "7183  1.408065  1.029976  \n",
       "7190  1.340443  0.993989  "
      ]
     },
     "execution_count": 17,
     "metadata": {},
     "output_type": "execute_result"
    }
   ],
   "source": [
    "testing.head()"
   ]
  },
  {
   "cell_type": "code",
   "execution_count": 18,
   "metadata": {},
   "outputs": [
    {
     "data": {
      "text/html": [
       "<div>\n",
       "<style scoped>\n",
       "    .dataframe tbody tr th:only-of-type {\n",
       "        vertical-align: middle;\n",
       "    }\n",
       "\n",
       "    .dataframe tbody tr th {\n",
       "        vertical-align: top;\n",
       "    }\n",
       "\n",
       "    .dataframe thead th {\n",
       "        text-align: right;\n",
       "    }\n",
       "</style>\n",
       "<table border=\"1\" class=\"dataframe\">\n",
       "  <thead>\n",
       "    <tr style=\"text-align: right;\">\n",
       "      <th></th>\n",
       "      <th>ADAS13</th>\n",
       "      <th>AGE</th>\n",
       "      <th>Ventricles</th>\n",
       "      <th>Hippocampus</th>\n",
       "      <th>Entorhinal</th>\n",
       "      <th>Fusiform</th>\n",
       "      <th>APOE4</th>\n",
       "      <th>FDG</th>\n",
       "      <th>AV45</th>\n",
       "    </tr>\n",
       "  </thead>\n",
       "  <tbody>\n",
       "    <tr>\n",
       "      <th>count</th>\n",
       "      <td>180.000000</td>\n",
       "      <td>180.000000</td>\n",
       "      <td>180.000000</td>\n",
       "      <td>180.000000</td>\n",
       "      <td>180.000000</td>\n",
       "      <td>180.000000</td>\n",
       "      <td>180.000000</td>\n",
       "      <td>180.000000</td>\n",
       "      <td>180.000000</td>\n",
       "    </tr>\n",
       "    <tr>\n",
       "      <th>mean</th>\n",
       "      <td>13.305556</td>\n",
       "      <td>70.792222</td>\n",
       "      <td>0.022829</td>\n",
       "      <td>0.004776</td>\n",
       "      <td>0.002455</td>\n",
       "      <td>0.012227</td>\n",
       "      <td>0.638889</td>\n",
       "      <td>1.278526</td>\n",
       "      <td>1.221457</td>\n",
       "    </tr>\n",
       "    <tr>\n",
       "      <th>std</th>\n",
       "      <td>5.858763</td>\n",
       "      <td>6.975507</td>\n",
       "      <td>0.012595</td>\n",
       "      <td>0.000788</td>\n",
       "      <td>0.000460</td>\n",
       "      <td>0.001404</td>\n",
       "      <td>0.699272</td>\n",
       "      <td>0.128293</td>\n",
       "      <td>0.225682</td>\n",
       "    </tr>\n",
       "    <tr>\n",
       "      <th>min</th>\n",
       "      <td>3.000000</td>\n",
       "      <td>55.000000</td>\n",
       "      <td>0.004626</td>\n",
       "      <td>0.002664</td>\n",
       "      <td>0.001020</td>\n",
       "      <td>0.007741</td>\n",
       "      <td>0.000000</td>\n",
       "      <td>0.914992</td>\n",
       "      <td>0.899074</td>\n",
       "    </tr>\n",
       "    <tr>\n",
       "      <th>25%</th>\n",
       "      <td>9.000000</td>\n",
       "      <td>66.400000</td>\n",
       "      <td>0.013185</td>\n",
       "      <td>0.004196</td>\n",
       "      <td>0.002212</td>\n",
       "      <td>0.011381</td>\n",
       "      <td>0.000000</td>\n",
       "      <td>1.199721</td>\n",
       "      <td>1.036656</td>\n",
       "    </tr>\n",
       "    <tr>\n",
       "      <th>50%</th>\n",
       "      <td>12.000000</td>\n",
       "      <td>70.950000</td>\n",
       "      <td>0.019806</td>\n",
       "      <td>0.004744</td>\n",
       "      <td>0.002441</td>\n",
       "      <td>0.012207</td>\n",
       "      <td>1.000000</td>\n",
       "      <td>1.287620</td>\n",
       "      <td>1.168124</td>\n",
       "    </tr>\n",
       "    <tr>\n",
       "      <th>75%</th>\n",
       "      <td>17.000000</td>\n",
       "      <td>75.400000</td>\n",
       "      <td>0.029391</td>\n",
       "      <td>0.005368</td>\n",
       "      <td>0.002699</td>\n",
       "      <td>0.013136</td>\n",
       "      <td>1.000000</td>\n",
       "      <td>1.362232</td>\n",
       "      <td>1.381668</td>\n",
       "    </tr>\n",
       "    <tr>\n",
       "      <th>max</th>\n",
       "      <td>31.000000</td>\n",
       "      <td>88.300000</td>\n",
       "      <td>0.068601</td>\n",
       "      <td>0.006802</td>\n",
       "      <td>0.003738</td>\n",
       "      <td>0.015922</td>\n",
       "      <td>2.000000</td>\n",
       "      <td>1.661761</td>\n",
       "      <td>1.856981</td>\n",
       "    </tr>\n",
       "  </tbody>\n",
       "</table>\n",
       "</div>"
      ],
      "text/plain": [
       "           ADAS13         AGE  Ventricles  Hippocampus  Entorhinal  \\\n",
       "count  180.000000  180.000000  180.000000   180.000000  180.000000   \n",
       "mean    13.305556   70.792222    0.022829     0.004776    0.002455   \n",
       "std      5.858763    6.975507    0.012595     0.000788    0.000460   \n",
       "min      3.000000   55.000000    0.004626     0.002664    0.001020   \n",
       "25%      9.000000   66.400000    0.013185     0.004196    0.002212   \n",
       "50%     12.000000   70.950000    0.019806     0.004744    0.002441   \n",
       "75%     17.000000   75.400000    0.029391     0.005368    0.002699   \n",
       "max     31.000000   88.300000    0.068601     0.006802    0.003738   \n",
       "\n",
       "         Fusiform       APOE4         FDG        AV45  \n",
       "count  180.000000  180.000000  180.000000  180.000000  \n",
       "mean     0.012227    0.638889    1.278526    1.221457  \n",
       "std      0.001404    0.699272    0.128293    0.225682  \n",
       "min      0.007741    0.000000    0.914992    0.899074  \n",
       "25%      0.011381    0.000000    1.199721    1.036656  \n",
       "50%      0.012207    1.000000    1.287620    1.168124  \n",
       "75%      0.013136    1.000000    1.362232    1.381668  \n",
       "max      0.015922    2.000000    1.661761    1.856981  "
      ]
     },
     "execution_count": 18,
     "metadata": {},
     "output_type": "execute_result"
    }
   ],
   "source": [
    "testing.describe()"
   ]
  },
  {
   "cell_type": "code",
   "execution_count": 19,
   "metadata": {},
   "outputs": [],
   "source": [
    "#the data is not normalize/scaled so our predictions will be wrong since they expect scaled data!\n",
    "#apply the scaler trained on the training data and transform your test data.\n",
    "Y_test = testing.ADAS13\n",
    "X_test = testing.loc[:,\"AGE\":\"AV45\"]\n",
    "X_test_scaled = scaler.transform(X_test)"
   ]
  },
  {
   "cell_type": "code",
   "execution_count": 20,
   "metadata": {},
   "outputs": [],
   "source": [
    "X_test_scaled = pd.DataFrame(X_test_scaled)\n",
    "X_test_scaled.columns = X_test.columns"
   ]
  },
  {
   "cell_type": "code",
   "execution_count": 21,
   "metadata": {},
   "outputs": [
    {
     "data": {
      "text/html": [
       "<div>\n",
       "<style scoped>\n",
       "    .dataframe tbody tr th:only-of-type {\n",
       "        vertical-align: middle;\n",
       "    }\n",
       "\n",
       "    .dataframe tbody tr th {\n",
       "        vertical-align: top;\n",
       "    }\n",
       "\n",
       "    .dataframe thead th {\n",
       "        text-align: right;\n",
       "    }\n",
       "</style>\n",
       "<table border=\"1\" class=\"dataframe\">\n",
       "  <thead>\n",
       "    <tr style=\"text-align: right;\">\n",
       "      <th></th>\n",
       "      <th>AGE</th>\n",
       "      <th>Ventricles</th>\n",
       "      <th>Hippocampus</th>\n",
       "      <th>Entorhinal</th>\n",
       "      <th>Fusiform</th>\n",
       "      <th>APOE4</th>\n",
       "      <th>FDG</th>\n",
       "      <th>AV45</th>\n",
       "    </tr>\n",
       "  </thead>\n",
       "  <tbody>\n",
       "    <tr>\n",
       "      <th>count</th>\n",
       "      <td>180.000000</td>\n",
       "      <td>180.000000</td>\n",
       "      <td>180.000000</td>\n",
       "      <td>180.000000</td>\n",
       "      <td>180.000000</td>\n",
       "      <td>180.000000</td>\n",
       "      <td>180.000000</td>\n",
       "      <td>180.000000</td>\n",
       "    </tr>\n",
       "    <tr>\n",
       "      <th>mean</th>\n",
       "      <td>-0.079995</td>\n",
       "      <td>-0.117600</td>\n",
       "      <td>0.180137</td>\n",
       "      <td>0.137785</td>\n",
       "      <td>0.047262</td>\n",
       "      <td>0.200676</td>\n",
       "      <td>0.214283</td>\n",
       "      <td>0.033119</td>\n",
       "    </tr>\n",
       "    <tr>\n",
       "      <th>std</th>\n",
       "      <td>0.935203</td>\n",
       "      <td>1.029361</td>\n",
       "      <td>0.998122</td>\n",
       "      <td>1.031240</td>\n",
       "      <td>0.919751</td>\n",
       "      <td>1.098215</td>\n",
       "      <td>0.916512</td>\n",
       "      <td>1.014625</td>\n",
       "    </tr>\n",
       "    <tr>\n",
       "      <th>min</th>\n",
       "      <td>-2.197250</td>\n",
       "      <td>-1.605296</td>\n",
       "      <td>-2.494553</td>\n",
       "      <td>-3.078439</td>\n",
       "      <td>-2.892551</td>\n",
       "      <td>-0.802706</td>\n",
       "      <td>-2.382767</td>\n",
       "      <td>-1.416257</td>\n",
       "    </tr>\n",
       "    <tr>\n",
       "      <th>25%</th>\n",
       "      <td>-0.668858</td>\n",
       "      <td>-0.905799</td>\n",
       "      <td>-0.554262</td>\n",
       "      <td>-0.407971</td>\n",
       "      <td>-0.507361</td>\n",
       "      <td>-0.802706</td>\n",
       "      <td>-0.348694</td>\n",
       "      <td>-0.797711</td>\n",
       "    </tr>\n",
       "    <tr>\n",
       "      <th>50%</th>\n",
       "      <td>-0.058842</td>\n",
       "      <td>-0.364680</td>\n",
       "      <td>0.140301</td>\n",
       "      <td>0.104520</td>\n",
       "      <td>0.033748</td>\n",
       "      <td>0.767805</td>\n",
       "      <td>0.279245</td>\n",
       "      <td>-0.206656</td>\n",
       "    </tr>\n",
       "    <tr>\n",
       "      <th>75%</th>\n",
       "      <td>0.537768</td>\n",
       "      <td>0.418694</td>\n",
       "      <td>0.930528</td>\n",
       "      <td>0.682521</td>\n",
       "      <td>0.642927</td>\n",
       "      <td>0.767805</td>\n",
       "      <td>0.812267</td>\n",
       "      <td>0.753401</td>\n",
       "    </tr>\n",
       "    <tr>\n",
       "      <th>max</th>\n",
       "      <td>2.267264</td>\n",
       "      <td>3.623188</td>\n",
       "      <td>2.745732</td>\n",
       "      <td>3.011423</td>\n",
       "      <td>2.468395</td>\n",
       "      <td>2.338316</td>\n",
       "      <td>2.952067</td>\n",
       "      <td>2.890326</td>\n",
       "    </tr>\n",
       "  </tbody>\n",
       "</table>\n",
       "</div>"
      ],
      "text/plain": [
       "              AGE  Ventricles  Hippocampus  Entorhinal    Fusiform  \\\n",
       "count  180.000000  180.000000   180.000000  180.000000  180.000000   \n",
       "mean    -0.079995   -0.117600     0.180137    0.137785    0.047262   \n",
       "std      0.935203    1.029361     0.998122    1.031240    0.919751   \n",
       "min     -2.197250   -1.605296    -2.494553   -3.078439   -2.892551   \n",
       "25%     -0.668858   -0.905799    -0.554262   -0.407971   -0.507361   \n",
       "50%     -0.058842   -0.364680     0.140301    0.104520    0.033748   \n",
       "75%      0.537768    0.418694     0.930528    0.682521    0.642927   \n",
       "max      2.267264    3.623188     2.745732    3.011423    2.468395   \n",
       "\n",
       "            APOE4         FDG        AV45  \n",
       "count  180.000000  180.000000  180.000000  \n",
       "mean     0.200676    0.214283    0.033119  \n",
       "std      1.098215    0.916512    1.014625  \n",
       "min     -0.802706   -2.382767   -1.416257  \n",
       "25%     -0.802706   -0.348694   -0.797711  \n",
       "50%      0.767805    0.279245   -0.206656  \n",
       "75%      0.767805    0.812267    0.753401  \n",
       "max      2.338316    2.952067    2.890326  "
      ]
     },
     "execution_count": 21,
     "metadata": {},
     "output_type": "execute_result"
    }
   ],
   "source": [
    "X_test_scaled.describe()"
   ]
  },
  {
   "cell_type": "code",
   "execution_count": 22,
   "metadata": {},
   "outputs": [],
   "source": [
    "#now we can make predictions\n",
    "Y_pred = lin_mod.predict(X_test_scaled)"
   ]
  },
  {
   "cell_type": "code",
   "execution_count": 23,
   "metadata": {},
   "outputs": [
    {
     "data": {
      "text/plain": [
       "25.925839734240466"
      ]
     },
     "execution_count": 23,
     "metadata": {},
     "output_type": "execute_result"
    }
   ],
   "source": [
    "from sklearn.metrics import mean_squared_error\n",
    "mean_squared_error(Y_test, Y_pred)"
   ]
  },
  {
   "cell_type": "code",
   "execution_count": 24,
   "metadata": {},
   "outputs": [
    {
     "data": {
      "text/plain": [
       "array([[1.        , 0.58298928],\n",
       "       [0.58298928, 1.        ]])"
      ]
     },
     "execution_count": 24,
     "metadata": {},
     "output_type": "execute_result"
    }
   ],
   "source": [
    "#we can compute the corrcoef using numpy\n",
    "np.corrcoef(Y_test, Y_pred)"
   ]
  },
  {
   "cell_type": "code",
   "execution_count": 41,
   "metadata": {},
   "outputs": [
    {
     "data": {
      "text/plain": [
       "<matplotlib.axes._subplots.AxesSubplot at 0x11affeda0>"
      ]
     },
     "execution_count": 41,
     "metadata": {},
     "output_type": "execute_result"
    },
    {
     "data": {
      "image/png": "[encoded data removed]",
      "text/plain": [
       "<Figure size 432x288 with 1 Axes>"
      ]
     },
     "metadata": {
      "needs_background": "light"
     },
     "output_type": "display_data"
    }
   ],
   "source": [
    "#and make a simple scatter plot\n",
    "pd.DataFrame({\"ADAS13\": Y_test, \"ADAS13_pred\": Y_pred }).plot.scatter(x=\"ADAS13\", y=\"ADAS13_pred\")"
   ]
  },
  {
   "cell_type": "markdown",
   "metadata": {},
   "source": [
    "## 6) Using Ridge Regression"
   ]
  },
  {
   "cell_type": "code",
   "execution_count": 26,
   "metadata": {},
   "outputs": [],
   "source": [
    "from sklearn.linear_model import Ridge"
   ]
  },
  {
   "cell_type": "code",
   "execution_count": 27,
   "metadata": {},
   "outputs": [
    {
     "name": "stdout",
     "output_type": "stream",
     "text": [
      "[ 0.0280528   0.03629892 -0.04955003 -0.04444916 -0.03663809  0.02370707\n",
      " -0.05325287  0.04632317]\n",
      "MSE: 37.50050194542234\n",
      "r: 0.5785699989031818\n",
      "[ 0.33950128  0.55787272 -0.82535771 -0.80878433 -0.34754236  0.57335843\n",
      " -1.15284754  0.94729128]\n",
      "MSE: 25.455623588440208\n",
      "r: 0.5846322703047457\n",
      "[ 0.33315145  0.67009873 -0.96657217 -1.0675581  -0.11488926  0.73152346\n",
      " -1.58673072  1.21061016]\n",
      "MSE: 25.910773233666518\n",
      "r: 0.5830510769611772\n"
     ]
    }
   ],
   "source": [
    "#run the rigde regression for 3 values of alpha: 10000, 100, 1\n",
    "my_alphas = [10000, 100, 1]\n",
    "for my_alpha in my_alphas:\n",
    "    my_ridge = Ridge(alpha=my_alpha)\n",
    "    #fit the model\n",
    "    my_ridge.fit(X_scaled, Y_train)\n",
    "    #print coefficients\n",
    "    print(my_ridge.coef_)\n",
    "    #make predictions\n",
    "    Y_tmp = my_ridge.predict(X_test_scaled)\n",
    "    #print (MSE)\n",
    "    mse = mean_squared_error(Y_test, Y_tmp)\n",
    "    print(\"MSE: \" + str(mse))\n",
    "    # print corrcoef\n",
    "    corr = np.corrcoef(Y_test, Y_tmp)[0,1]\n",
    "    print(\"r: \" + str(corr))"
   ]
  },
  {
   "cell_type": "markdown",
   "metadata": {},
   "source": [
    "Strong regularization ($\\alpha$=10000) gave the highest error MSE=37. Model paramebters were all smallish (absolute values < 0.06). With relaxed regularization ($\\alpha$=100) the $\\beta$ coefficients grew, the MSE decreased, but correlation actually stayed quite similar. With even less regularization ($\\alpha$=1) the model got a bit worse again, but not much compared to the $\\alpha$=100."
   ]
  },
  {
   "cell_type": "markdown",
   "metadata": {},
   "source": [
    "## 7) Challenge: Run with a detailed list of alphas"
   ]
  },
  {
   "cell_type": "code",
   "execution_count": 28,
   "metadata": {},
   "outputs": [],
   "source": [
    "#when setting up our ridge object, we have to specify our regularization parameter.\n",
    "my_alphas=np.power(10, np.arange(0,5, 0.25))\n",
    "MSEs = []\n",
    "corrs = []\n",
    "my_betas = []\n",
    "for my_alpha in my_alphas:\n",
    "    my_ridge = Ridge(alpha=my_alpha)\n",
    "    #fit the model\n",
    "    my_ridge.fit(X_scaled, Y_train)\n",
    "    #print coefficients\n",
    "    my_betas.append(my_ridge.coef_)\n",
    "    #make predictions\n",
    "    Y_tmp = my_ridge.predict(X_test_scaled)\n",
    "    #MSE\n",
    "    mse = mean_squared_error(Y_test, Y_tmp)\n",
    "    MSEs.append(mse)\n",
    "    #r\n",
    "    corr = np.corrcoef(Y_test, Y_tmp)[0,1]\n",
    "    corrs.append(corr)"
   ]
  },
  {
   "cell_type": "markdown",
   "metadata": {},
   "source": [
    "### Visualize the Performance as MSE and correlation"
   ]
  },
  {
   "cell_type": "code",
   "execution_count": 29,
   "metadata": {},
   "outputs": [],
   "source": [
    "results = pd.DataFrame({\"alpha\" : my_alphas, \"MSE\": MSEs, \"R\": corrs})"
   ]
  },
  {
   "cell_type": "code",
   "execution_count": 30,
   "metadata": {},
   "outputs": [
    {
     "data": {
      "text/plain": [
       "<matplotlib.axes._subplots.AxesSubplot at 0x118260b38>"
      ]
     },
     "execution_count": 30,
     "metadata": {},
     "output_type": "execute_result"
    },
    {
     "data": {
      "image/png": "[encoded data removed]",
      "text/plain": [
       "<Figure size 432x288 with 1 Axes>"
      ]
     },
     "metadata": {
      "needs_background": "light"
     },
     "output_type": "display_data"
    }
   ],
   "source": [
    "results.plot(x='alpha', y='MSE', logx=True)"
   ]
  },
  {
   "cell_type": "code",
   "execution_count": 31,
   "metadata": {},
   "outputs": [
    {
     "data": {
      "text/plain": [
       "<matplotlib.axes._subplots.AxesSubplot at 0x11a59fcc0>"
      ]
     },
     "execution_count": 31,
     "metadata": {},
     "output_type": "execute_result"
    },
    {
     "data": {
      "image/png": "[encoded data removed]",
      "text/plain": [
       "<Figure size 432x288 with 1 Axes>"
      ]
     },
     "metadata": {
      "needs_background": "light"
     },
     "output_type": "display_data"
    }
   ],
   "source": [
    "results.plot(x='alpha', y='R', logx=True)"
   ]
  },
  {
   "cell_type": "markdown",
   "metadata": {},
   "source": [
    "### Visualize the change of the $\\beta$ coefficients"
   ]
  },
  {
   "cell_type": "code",
   "execution_count": 32,
   "metadata": {},
   "outputs": [],
   "source": [
    "betas = pd.DataFrame( my_betas)\n",
    "betas.columns = X_scaled.columns"
   ]
  },
  {
   "cell_type": "code",
   "execution_count": 33,
   "metadata": {},
   "outputs": [],
   "source": [
    "betas = pd.concat([pd.Series(my_alphas), betas], axis=1)\n",
    "betas.rename(columns={0 : 'alpha'}, inplace=True)"
   ]
  },
  {
   "cell_type": "code",
   "execution_count": 34,
   "metadata": {},
   "outputs": [
    {
     "data": {
      "text/plain": [
       "<matplotlib.axes._subplots.AxesSubplot at 0x11a8bb898>"
      ]
     },
     "execution_count": 34,
     "metadata": {},
     "output_type": "execute_result"
    },
    {
     "data": {
      "image/png": "[encoded data removed]",
      "text/plain": [
       "<Figure size 432x288 with 1 Axes>"
      ]
     },
     "metadata": {
      "needs_background": "light"
     },
     "output_type": "display_data"
    }
   ],
   "source": [
    "betas.plot(x='alpha', y=X_scaled.columns, logx=True)"
   ]
  },
  {
   "cell_type": "markdown",
   "metadata": {},
   "source": [
    "## FYI: By contrast: LASSO regression"
   ]
  },
  {
   "cell_type": "code",
   "execution_count": 35,
   "metadata": {},
   "outputs": [
    {
     "name": "stderr",
     "output_type": "stream",
     "text": [
      "/opt/local/Library/Frameworks/Python.framework/Versions/3.6/lib/python3.6/site-packages/numpy/lib/function_base.py:2534: RuntimeWarning: invalid value encountered in true_divide\n",
      "  c /= stddev[:, None]\n",
      "/opt/local/Library/Frameworks/Python.framework/Versions/3.6/lib/python3.6/site-packages/numpy/lib/function_base.py:2535: RuntimeWarning: invalid value encountered in true_divide\n",
      "  c /= stddev[None, :]\n"
     ]
    }
   ],
   "source": [
    "from sklearn.linear_model import Lasso\n",
    "#when setting up our ridge object, we have to specify our regularization parameter.\n",
    "my_alphas=np.power(10, np.arange(-1,0.6, 0.1))\n",
    "MSEs = []\n",
    "corrs = []\n",
    "my_betas = []\n",
    "for my_alpha in my_alphas:\n",
    "    my_lasso = Lasso(alpha=my_alpha)\n",
    "    #fit the model\n",
    "    my_lasso.fit(X_scaled, Y_train)\n",
    "    #print coefficients\n",
    "    my_betas.append(my_lasso.coef_)\n",
    "    #make predictions\n",
    "    Y_tmp = my_lasso.predict(X_test_scaled)\n",
    "    #MSE\n",
    "    mse = mean_squared_error(Y_test, Y_tmp)\n",
    "    MSEs.append(mse)\n",
    "    #r\n",
    "    corr = np.corrcoef(Y_test, Y_tmp)[0,1]\n",
    "    corrs.append(corr)"
   ]
  },
  {
   "cell_type": "code",
   "execution_count": 36,
   "metadata": {},
   "outputs": [],
   "source": [
    "results_lasso = pd.DataFrame({\"alpha\" : my_alphas, \"MSE\": MSEs, \"R\": corrs})"
   ]
  },
  {
   "cell_type": "code",
   "execution_count": 37,
   "metadata": {},
   "outputs": [
    {
     "data": {
      "text/html": [
       "<div>\n",
       "<style scoped>\n",
       "    .dataframe tbody tr th:only-of-type {\n",
       "        vertical-align: middle;\n",
       "    }\n",
       "\n",
       "    .dataframe tbody tr th {\n",
       "        vertical-align: top;\n",
       "    }\n",
       "\n",
       "    .dataframe thead th {\n",
       "        text-align: right;\n",
       "    }\n",
       "</style>\n",
       "<table border=\"1\" class=\"dataframe\">\n",
       "  <thead>\n",
       "    <tr style=\"text-align: right;\">\n",
       "      <th></th>\n",
       "      <th>alpha</th>\n",
       "      <th>MSE</th>\n",
       "      <th>R</th>\n",
       "    </tr>\n",
       "  </thead>\n",
       "  <tbody>\n",
       "    <tr>\n",
       "      <th>0</th>\n",
       "      <td>0.100000</td>\n",
       "      <td>25.603600</td>\n",
       "      <td>0.583455</td>\n",
       "    </tr>\n",
       "    <tr>\n",
       "      <th>1</th>\n",
       "      <td>0.125893</td>\n",
       "      <td>25.533901</td>\n",
       "      <td>0.583548</td>\n",
       "    </tr>\n",
       "    <tr>\n",
       "      <th>2</th>\n",
       "      <td>0.158489</td>\n",
       "      <td>25.454180</td>\n",
       "      <td>0.583646</td>\n",
       "    </tr>\n",
       "    <tr>\n",
       "      <th>3</th>\n",
       "      <td>0.199526</td>\n",
       "      <td>25.366539</td>\n",
       "      <td>0.583738</td>\n",
       "    </tr>\n",
       "    <tr>\n",
       "      <th>4</th>\n",
       "      <td>0.251189</td>\n",
       "      <td>25.276366</td>\n",
       "      <td>0.583795</td>\n",
       "    </tr>\n",
       "    <tr>\n",
       "      <th>5</th>\n",
       "      <td>0.316228</td>\n",
       "      <td>25.194807</td>\n",
       "      <td>0.583758</td>\n",
       "    </tr>\n",
       "    <tr>\n",
       "      <th>6</th>\n",
       "      <td>0.398107</td>\n",
       "      <td>25.142699</td>\n",
       "      <td>0.583503</td>\n",
       "    </tr>\n",
       "    <tr>\n",
       "      <th>7</th>\n",
       "      <td>0.501187</td>\n",
       "      <td>25.144847</td>\n",
       "      <td>0.583098</td>\n",
       "    </tr>\n",
       "    <tr>\n",
       "      <th>8</th>\n",
       "      <td>0.630957</td>\n",
       "      <td>25.169324</td>\n",
       "      <td>0.584717</td>\n",
       "    </tr>\n",
       "    <tr>\n",
       "      <th>9</th>\n",
       "      <td>0.794328</td>\n",
       "      <td>25.382356</td>\n",
       "      <td>0.586756</td>\n",
       "    </tr>\n",
       "    <tr>\n",
       "      <th>10</th>\n",
       "      <td>1.000000</td>\n",
       "      <td>25.858330</td>\n",
       "      <td>0.589858</td>\n",
       "    </tr>\n",
       "    <tr>\n",
       "      <th>11</th>\n",
       "      <td>1.258925</td>\n",
       "      <td>26.831126</td>\n",
       "      <td>0.588842</td>\n",
       "    </tr>\n",
       "    <tr>\n",
       "      <th>12</th>\n",
       "      <td>1.584893</td>\n",
       "      <td>28.440895</td>\n",
       "      <td>0.584994</td>\n",
       "    </tr>\n",
       "    <tr>\n",
       "      <th>13</th>\n",
       "      <td>1.995262</td>\n",
       "      <td>31.049923</td>\n",
       "      <td>0.570471</td>\n",
       "    </tr>\n",
       "    <tr>\n",
       "      <th>14</th>\n",
       "      <td>2.511886</td>\n",
       "      <td>34.987361</td>\n",
       "      <td>0.527575</td>\n",
       "    </tr>\n",
       "    <tr>\n",
       "      <th>15</th>\n",
       "      <td>3.162278</td>\n",
       "      <td>38.950000</td>\n",
       "      <td>NaN</td>\n",
       "    </tr>\n",
       "  </tbody>\n",
       "</table>\n",
       "</div>"
      ],
      "text/plain": [
       "       alpha        MSE         R\n",
       "0   0.100000  25.603600  0.583455\n",
       "1   0.125893  25.533901  0.583548\n",
       "2   0.158489  25.454180  0.583646\n",
       "3   0.199526  25.366539  0.583738\n",
       "4   0.251189  25.276366  0.583795\n",
       "5   0.316228  25.194807  0.583758\n",
       "6   0.398107  25.142699  0.583503\n",
       "7   0.501187  25.144847  0.583098\n",
       "8   0.630957  25.169324  0.584717\n",
       "9   0.794328  25.382356  0.586756\n",
       "10  1.000000  25.858330  0.589858\n",
       "11  1.258925  26.831126  0.588842\n",
       "12  1.584893  28.440895  0.584994\n",
       "13  1.995262  31.049923  0.570471\n",
       "14  2.511886  34.987361  0.527575\n",
       "15  3.162278  38.950000       NaN"
      ]
     },
     "execution_count": 37,
     "metadata": {},
     "output_type": "execute_result"
    }
   ],
   "source": [
    "results_lasso"
   ]
  },
  {
   "cell_type": "code",
   "execution_count": 38,
   "metadata": {},
   "outputs": [
    {
     "data": {
      "text/plain": [
       "<matplotlib.axes._subplots.AxesSubplot at 0x11aaa3be0>"
      ]
     },
     "execution_count": 38,
     "metadata": {},
     "output_type": "execute_result"
    },
    {
     "data": {
      "image/png": "[encoded data removed]",
      "text/plain": [
       "<Figure size 432x288 with 1 Axes>"
      ]
     },
     "metadata": {
      "needs_background": "light"
     },
     "output_type": "display_data"
    }
   ],
   "source": [
    "results_lasso.plot(x='alpha', y='MSE', logx=True)"
   ]
  },
  {
   "cell_type": "code",
   "execution_count": 39,
   "metadata": {},
   "outputs": [
    {
     "data": {
      "text/plain": [
       "<matplotlib.axes._subplots.AxesSubplot at 0x11ace9390>"
      ]
     },
     "execution_count": 39,
     "metadata": {},
     "output_type": "execute_result"
    },
    {
     "data": {
      "image/png": "[encoded data removed]",
      "text/plain": [
       "<Figure size 432x288 with 1 Axes>"
      ]
     },
     "metadata": {
      "needs_background": "light"
     },
     "output_type": "display_data"
    }
   ],
   "source": [
    "results_lasso.plot(x='alpha', y='R', logx=True)"
   ]
  },
  {
   "cell_type": "code",
   "execution_count": 40,
   "metadata": {},
   "outputs": [
    {
     "data": {
      "text/plain": [
       "<matplotlib.axes._subplots.AxesSubplot at 0x11aeb0358>"
      ]
     },
     "execution_count": 40,
     "metadata": {},
     "output_type": "execute_result"
    },
    {
     "data": {
      "image/png": "[encoded data removed]",
      "text/plain": [
       "<Figure size 432x288 with 1 Axes>"
      ]
     },
     "metadata": {
      "needs_background": "light"
     },
     "output_type": "display_data"
    }
   ],
   "source": [
    "betas_lasso = pd.DataFrame( my_betas)\n",
    "betas_lasso.columns = X_scaled.columns\n",
    "betas_lasso = pd.concat([pd.Series(my_alphas), betas_lasso], axis=1)\n",
    "betas_lasso.rename(columns={0 : 'alpha'}, inplace=True)\n",
    "betas_lasso.plot(x='alpha', y=X_scaled.columns, logx=True)"
   ]
  },
  {
   "cell_type": "markdown",
   "metadata": {},
   "source": [
    "Compared to Ridge regression, the effect of feature selection is clearly visible. For large values of $\\alpha$, i.e, strong regularization, many features receive coefficients equal to 0."
   ]
  },
  {
   "cell_type": "code",
   "execution_count": null,
   "metadata": {},
   "outputs": [],
   "source": []
  }
 ],
 "metadata": {
  "kernelspec": {
   "display_name": "Python 3",
   "language": "python",
   "name": "python3"
  },
  "language_info": {
   "codemirror_mode": {
    "name": "ipython",
    "version": 3
   },
   "file_extension": ".py",
   "mimetype": "text/x-python",
   "name": "python",
   "nbconvert_exporter": "python",
   "pygments_lexer": "ipython3",
   "version": "3.6.8"
  }
 },
 "nbformat": 4,
 "nbformat_minor": 2
}
