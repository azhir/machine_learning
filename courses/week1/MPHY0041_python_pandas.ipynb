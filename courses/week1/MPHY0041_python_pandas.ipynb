{
 "cells": [
  {
   "cell_type": "markdown",
   "metadata": {
    "slideshow": {
     "slide_type": "slide"
    }
   },
   "source": [
    "# A brief introduction to python and pandas, numpy, etc."
   ]
  },
  {
   "cell_type": "markdown",
   "metadata": {
    "slideshow": {
     "slide_type": "subslide"
    }
   },
   "source": [
    "Python is an interpreter language. No compilation required (unlike C++, ...). Many extesions (packages) have been developed, supporting data analysis, data wrangling and scientific computing. The top of Python code starts typically\n",
    "with the packages one wants to include."
   ]
  },
  {
   "cell_type": "code",
   "execution_count": 1,
   "metadata": {
    "slideshow": {
     "slide_type": "fragment"
    }
   },
   "outputs": [],
   "source": [
    "import os, sys\n",
    "import numpy as np\n",
    "import pandas as pd\n",
    "import random as rnd\n",
    "import matplotlib\n",
    "#etc."
   ]
  },
  {
   "cell_type": "markdown",
   "metadata": {
    "slideshow": {
     "slide_type": "subslide"
    }
   },
   "source": [
    "In python variables don't have to be initialized (e.g., other programming languages required to fix the data a variable can store. In C++: int count; would define that the variable count is an integer variable."
   ]
  },
  {
   "cell_type": "code",
   "execution_count": 2,
   "metadata": {
    "slideshow": {
     "slide_type": "fragment"
    }
   },
   "outputs": [],
   "source": [
    "a = 2\n",
    "b = \"street\"\n",
    "c = 0.012"
   ]
  },
  {
   "cell_type": "code",
   "execution_count": 3,
   "metadata": {
    "slideshow": {
     "slide_type": "fragment"
    }
   },
   "outputs": [
    {
     "name": "stdout",
     "output_type": "stream",
     "text": [
      "0.024\n"
     ]
    }
   ],
   "source": [
    "#some things happen as expected\n",
    "print(a * c)"
   ]
  },
  {
   "cell_type": "code",
   "execution_count": 4,
   "metadata": {
    "slideshow": {
     "slide_type": "fragment"
    }
   },
   "outputs": [
    {
     "name": "stdout",
     "output_type": "stream",
     "text": [
      "streetstreet\n"
     ]
    }
   ],
   "source": [
    "#some things happend well... unexpected\n",
    "print(a * b)"
   ]
  },
  {
   "cell_type": "code",
   "execution_count": 6,
   "metadata": {
    "slideshow": {
     "slide_type": "fragment"
    }
   },
   "outputs": [
    {
     "ename": "TypeError",
     "evalue": "can't multiply sequence by non-int of type 'float'",
     "output_type": "error",
     "traceback": [
      "\u001b[0;31m---------------------------------------------------------------------------\u001b[0m",
      "\u001b[0;31mTypeError\u001b[0m                                 Traceback (most recent call last)",
      "\u001b[0;32m<ipython-input-6-8274a48f41f5>\u001b[0m in \u001b[0;36m<module>\u001b[0;34m\u001b[0m\n\u001b[1;32m      1\u001b[0m \u001b[0;31m#and some things will throw an error\u001b[0m\u001b[0;34m\u001b[0m\u001b[0;34m\u001b[0m\u001b[0;34m\u001b[0m\u001b[0m\n\u001b[0;32m----> 2\u001b[0;31m \u001b[0mprint\u001b[0m\u001b[0;34m(\u001b[0m\u001b[0mc\u001b[0m \u001b[0;34m*\u001b[0m \u001b[0mb\u001b[0m\u001b[0;34m)\u001b[0m\u001b[0;34m\u001b[0m\u001b[0;34m\u001b[0m\u001b[0m\n\u001b[0m",
      "\u001b[0;31mTypeError\u001b[0m: can't multiply sequence by non-int of type 'float'"
     ]
    }
   ],
   "source": [
    "#and some things will throw an error\n",
    "print(c * b)"
   ]
  },
  {
   "cell_type": "markdown",
   "metadata": {
    "slideshow": {
     "slide_type": "slide"
    }
   },
   "source": [
    "There are some more advanced data structures that let you store more than one pice of information.\n",
    "Lists, dictionaries, sets, ..."
   ]
  },
  {
   "cell_type": "markdown",
   "metadata": {
    "slideshow": {
     "slide_type": "slide"
    }
   },
   "source": [
    "## Lists"
   ]
  },
  {
   "cell_type": "code",
   "execution_count": 7,
   "metadata": {
    "slideshow": {
     "slide_type": "subslide"
    }
   },
   "outputs": [
    {
     "name": "stdout",
     "output_type": "stream",
     "text": [
      "1\n",
      "19\n"
     ]
    }
   ],
   "source": [
    "#list\n",
    "my_numbers = [1,2,5,19,2]\n",
    "#access elements by their index (caution, first element is indexed by 0)\n",
    "print(my_numbers[0])\n",
    "print(my_numbers[3])"
   ]
  },
  {
   "cell_type": "code",
   "execution_count": 8,
   "metadata": {
    "slideshow": {
     "slide_type": "fragment"
    }
   },
   "outputs": [
    {
     "name": "stdout",
     "output_type": "stream",
     "text": [
      "2\n",
      "0.45\n"
     ]
    }
   ],
   "source": [
    "#you are not restricted to a single tpye of data\n",
    "my_items = [2, \"street\", 0.012, \"0.45\", \"Friday\"]\n",
    "print(my_items[0])\n",
    "print(my_items[3])"
   ]
  },
  {
   "cell_type": "code",
   "execution_count": 9,
   "metadata": {
    "slideshow": {
     "slide_type": "fragment"
    }
   },
   "outputs": [
    {
     "name": "stdout",
     "output_type": "stream",
     "text": [
      "0.450.45\n"
     ]
    }
   ],
   "source": [
    "#not knowing which datatype is stored can lead to unexpected results\n",
    "print(my_items[0] * my_items[3])"
   ]
  },
  {
   "cell_type": "code",
   "execution_count": 10,
   "metadata": {
    "slideshow": {
     "slide_type": "fragment"
    }
   },
   "outputs": [
    {
     "name": "stdout",
     "output_type": "stream",
     "text": [
      "0.9\n"
     ]
    }
   ],
   "source": [
    "#to avoid this you can cast varibles expliscity to a data type\n",
    "#e.g., cast a string containing a decimal to the type float\n",
    "print(my_items[0] * float(my_items[3]))"
   ]
  },
  {
   "cell_type": "code",
   "execution_count": 11,
   "metadata": {
    "slideshow": {
     "slide_type": "subslide"
    }
   },
   "outputs": [
    {
     "ename": "ValueError",
     "evalue": "could not convert string to float: 'Friday'",
     "output_type": "error",
     "traceback": [
      "\u001b[0;31m---------------------------------------------------------------------------\u001b[0m",
      "\u001b[0;31mValueError\u001b[0m                                Traceback (most recent call last)",
      "\u001b[0;32m<ipython-input-11-812bc6b70776>\u001b[0m in \u001b[0;36m<module>\u001b[0;34m\u001b[0m\n\u001b[1;32m      1\u001b[0m \u001b[0;31m#which can backfire if there is no interpretable number in the string\u001b[0m\u001b[0;34m\u001b[0m\u001b[0;34m\u001b[0m\u001b[0;34m\u001b[0m\u001b[0m\n\u001b[0;32m----> 2\u001b[0;31m \u001b[0mprint\u001b[0m\u001b[0;34m(\u001b[0m\u001b[0mmy_items\u001b[0m\u001b[0;34m[\u001b[0m\u001b[0;36m0\u001b[0m\u001b[0;34m]\u001b[0m \u001b[0;34m*\u001b[0m \u001b[0mfloat\u001b[0m\u001b[0;34m(\u001b[0m\u001b[0mmy_items\u001b[0m\u001b[0;34m[\u001b[0m\u001b[0;36m4\u001b[0m\u001b[0;34m]\u001b[0m\u001b[0;34m)\u001b[0m\u001b[0;34m)\u001b[0m\u001b[0;34m\u001b[0m\u001b[0;34m\u001b[0m\u001b[0m\n\u001b[0m",
      "\u001b[0;31mValueError\u001b[0m: could not convert string to float: 'Friday'"
     ]
    }
   ],
   "source": [
    "#which can backfire if there is no interpretable number in the string\n",
    "print(my_items[0] * float(my_items[4]))"
   ]
  },
  {
   "cell_type": "markdown",
   "metadata": {
    "slideshow": {
     "slide_type": "subslide"
    }
   },
   "source": [
    "Lists come with a range of useful functions such as, sorting, searching, appending items, droppint items, etc.\n",
    "For available functions see here: https://docs.python.org/3/tutorial/datastructures.html"
   ]
  },
  {
   "cell_type": "code",
   "execution_count": 12,
   "metadata": {
    "slideshow": {
     "slide_type": "subslide"
    }
   },
   "outputs": [
    {
     "name": "stdout",
     "output_type": "stream",
     "text": [
      "[1, 2, 2, 5, 19]\n"
     ]
    }
   ],
   "source": [
    "#sorting is done 'inplace', i.e., no new variable is generated.\n",
    "my_numbers.sort()\n",
    "print(my_numbers)"
   ]
  },
  {
   "cell_type": "code",
   "execution_count": 13,
   "metadata": {
    "slideshow": {
     "slide_type": "fragment"
    }
   },
   "outputs": [
    {
     "name": "stdout",
     "output_type": "stream",
     "text": [
      "[1, 1.5, 2, 5, 19]\n"
     ]
    }
   ],
   "source": [
    "#you can chance specific entries:\n",
    "my_numbers[1] = 1.5\n",
    "print(my_numbers)"
   ]
  },
  {
   "cell_type": "markdown",
   "metadata": {
    "slideshow": {
     "slide_type": "slide"
    }
   },
   "source": [
    "Another very useful data structure are dictionaries. Here elements can be accessed by names."
   ]
  },
  {
   "cell_type": "code",
   "execution_count": 14,
   "metadata": {
    "slideshow": {
     "slide_type": "subslide"
    }
   },
   "outputs": [
    {
     "name": "stdout",
     "output_type": "stream",
     "text": [
      "14\n"
     ]
    }
   ],
   "source": [
    "age_map = {} #initialize an empty dictionary\n",
    "age_map['A'] = 10\n",
    "age_map['bcde'] = 14\n",
    "age_map['def'] = \"90\"\n",
    "\n",
    "#access an element\n",
    "print(age_map[\"bcde\"])"
   ]
  },
  {
   "cell_type": "code",
   "execution_count": 14,
   "metadata": {
    "slideshow": {
     "slide_type": "fragment"
    }
   },
   "outputs": [],
   "source": [
    "#confusingly your indexing variable can also be number\n",
    "age_map[55] = 123"
   ]
  },
  {
   "cell_type": "code",
   "execution_count": 15,
   "metadata": {
    "slideshow": {
     "slide_type": "fragment"
    }
   },
   "outputs": [
    {
     "name": "stdout",
     "output_type": "stream",
     "text": [
      "{'sub1': 10, 'subj2': 55, 'subj4': 5}\n"
     ]
    }
   ],
   "source": [
    "#alternatively you can specify the dictinary at the time you initalize it\n",
    "age_map2 = {'sub1': 10, 'subj2': 55, 'subj4': 5}\n",
    "print(age_map2)"
   ]
  },
  {
   "cell_type": "code",
   "execution_count": 16,
   "metadata": {
    "slideshow": {
     "slide_type": "fragment"
    }
   },
   "outputs": [
    {
     "name": "stdout",
     "output_type": "stream",
     "text": [
      "[[0, 1, 2, 3, 4], [100, 101, 102, 103, 104]]\n"
     ]
    }
   ],
   "source": [
    "#Furthermore you can have 'lists of list' this way we can 'simulate a matrix'\n",
    "row1 = [0,1,2,3,4]\n",
    "row2 = [100,101, 102, 103, 104]\n",
    "C = []\n",
    "C.append(row1)\n",
    "C.append(row2)\n",
    "print(C)"
   ]
  },
  {
   "cell_type": "code",
   "execution_count": 17,
   "metadata": {
    "slideshow": {
     "slide_type": "fragment"
    }
   },
   "outputs": [
    {
     "data": {
      "text/plain": [
       "103"
      ]
     },
     "execution_count": 17,
     "metadata": {},
     "output_type": "execute_result"
    }
   ],
   "source": [
    "#and we can access specific elements in the 'matrix'\n",
    "C[1][3]"
   ]
  },
  {
   "cell_type": "markdown",
   "metadata": {
    "slideshow": {
     "slide_type": "slide"
    }
   },
   "source": [
    "One very important functionality is that we can define functions"
   ]
  },
  {
   "cell_type": "code",
   "execution_count": 18,
   "metadata": {
    "slideshow": {
     "slide_type": "subslide"
    }
   },
   "outputs": [
    {
     "name": "stdout",
     "output_type": "stream",
     "text": [
      "3.5\n"
     ]
    }
   ],
   "source": [
    "def mySum(a, b):\n",
    "    result = a + b\n",
    "    return result\n",
    "\n",
    "print( mySum(my_numbers[1], my_numbers[2]) )"
   ]
  },
  {
   "cell_type": "code",
   "execution_count": 19,
   "metadata": {
    "slideshow": {
     "slide_type": "fragment"
    }
   },
   "outputs": [
    {
     "name": "stdout",
     "output_type": "stream",
     "text": [
      "28.5\n"
     ]
    }
   ],
   "source": [
    "def listSum(l):\n",
    "    result = 0\n",
    "    for i in range(len(l)):\n",
    "        result += l[i]\n",
    "    return result\n",
    "\n",
    "print (listSum(my_numbers) )"
   ]
  },
  {
   "cell_type": "markdown",
   "metadata": {
    "slideshow": {
     "slide_type": "slide"
    }
   },
   "source": [
    "And of course python comes with the classic control elements every programming language has. for-loops, while-loops, if-then-else, etc: https://docs.python.org/3/tutorial/controlflow.html"
   ]
  },
  {
   "cell_type": "markdown",
   "metadata": {
    "slideshow": {
     "slide_type": "slide"
    }
   },
   "source": [
    "# One important package for mathematical computing: numpy"
   ]
  },
  {
   "cell_type": "markdown",
   "metadata": {
    "slideshow": {
     "slide_type": "slide"
    }
   },
   "source": [
    "Numpy allows us to have 'proper' matrices and vectors and imlements a range of operations on matrices and vectors. In addition we can define the datatypes (integer, float, etc.). Here for more info: https://numpy.org/ and the quick start guide: https://numpy.org/devdocs/user/quickstart.html"
   ]
  },
  {
   "cell_type": "code",
   "execution_count": 20,
   "metadata": {
    "slideshow": {
     "slide_type": "slide"
    }
   },
   "outputs": [
    {
     "name": "stdout",
     "output_type": "stream",
     "text": [
      "[1.  2.  3.3]\n"
     ]
    }
   ],
   "source": [
    "vecA = np.array([2,3,4])\n",
    "vecB = np.array([1.0, 2.2, 4.4])\n",
    "vecC = np.array([1,2,3.3])\n",
    "print(vecC)"
   ]
  },
  {
   "cell_type": "code",
   "execution_count": 21,
   "metadata": {
    "slideshow": {
     "slide_type": "fragment"
    }
   },
   "outputs": [
    {
     "name": "stdout",
     "output_type": "stream",
     "text": [
      "['1' '2' '3']\n"
     ]
    }
   ],
   "source": [
    "vecD = np.array([1,2,\"3\"])\n",
    "print(vecD)"
   ]
  },
  {
   "cell_type": "code",
   "execution_count": 22,
   "metadata": {
    "slideshow": {
     "slide_type": "fragment"
    }
   },
   "outputs": [
    {
     "data": {
      "text/plain": [
       "(3,)"
      ]
     },
     "execution_count": 22,
     "metadata": {},
     "output_type": "execute_result"
    }
   ],
   "source": [
    "#view the dimensionality\n",
    "vecA.shape"
   ]
  },
  {
   "cell_type": "code",
   "execution_count": 23,
   "metadata": {
    "slideshow": {
     "slide_type": "subslide"
    }
   },
   "outputs": [
    {
     "name": "stdout",
     "output_type": "stream",
     "text": [
      "26.200000000000003\n"
     ]
    }
   ],
   "source": [
    "#compute the dot product between vectors\n",
    "print(vecA.dot(vecB))"
   ]
  },
  {
   "cell_type": "code",
   "execution_count": 25,
   "metadata": {
    "slideshow": {
     "slide_type": "fragment"
    }
   },
   "outputs": [
    {
     "name": "stdout",
     "output_type": "stream",
     "text": [
      "[ 1.   0.8 -0.4]\n"
     ]
    }
   ],
   "source": [
    "print(vecA - vecB)"
   ]
  },
  {
   "cell_type": "code",
   "execution_count": 26,
   "metadata": {
    "slideshow": {
     "slide_type": "slide"
    }
   },
   "outputs": [
    {
     "name": "stdout",
     "output_type": "stream",
     "text": [
      "[[0. 0. 0. 0.]\n",
      " [0. 0. 0. 0.]\n",
      " [0. 0. 0. 0.]]\n",
      "[[1. 1. 1. 1.]\n",
      " [1. 1. 1. 1.]\n",
      " [1. 1. 1. 1.]]\n",
      "[[1. 1. 1. 1.]\n",
      " [1. 1. 1. 1.]\n",
      " [1. 1. 1. 1.]]\n"
     ]
    }
   ],
   "source": [
    "#matrices (ndarrays)\n",
    "#different ways to initialize\n",
    "\n",
    "#matrix with zeros (indicate dimensions)\n",
    "matA = np.zeros( (3,4) )\n",
    "print(matA)\n",
    "\n",
    "#with ones\n",
    "matB = np.ones( (3,4) )\n",
    "print(matB)\n",
    "\n",
    "#empty (uninitalized, output may vary)\n",
    "matC = np.empty( (3,4) )\n",
    "print(matC)\n"
   ]
  },
  {
   "cell_type": "code",
   "execution_count": 27,
   "metadata": {
    "slideshow": {
     "slide_type": "subslide"
    }
   },
   "outputs": [
    {
     "name": "stdout",
     "output_type": "stream",
     "text": [
      "[[ 0  1  2  3  4]\n",
      " [10 11 12 13 14]]\n",
      "[[1. 0. 0.]\n",
      " [0. 1. 0.]\n",
      " [0. 0. 1.]]\n",
      "[[1 0 0]\n",
      " [0 2 0]\n",
      " [0 0 3]]\n"
     ]
    }
   ],
   "source": [
    "#with specific content (note: round parantheses, no brackets)\n",
    "matD = np.array( [ (0,1,2,3,4), (10,11,12,13,14)] )\n",
    "print(matD)\n",
    "\n",
    "#diagonal matrix\n",
    "matE = np.eye(3)\n",
    "print(matE)\n",
    "\n",
    "#or a diagonal matrix with specific elements\n",
    "matF = np.diag([1,2,3])\n",
    "print(matF)"
   ]
  },
  {
   "cell_type": "code",
   "execution_count": 28,
   "metadata": {
    "slideshow": {
     "slide_type": "subslide"
    }
   },
   "outputs": [
    {
     "data": {
      "text/plain": [
       "(2, 5)"
      ]
     },
     "execution_count": 28,
     "metadata": {},
     "output_type": "execute_result"
    }
   ],
   "source": [
    "matD.shape\n"
   ]
  },
  {
   "cell_type": "code",
   "execution_count": 29,
   "metadata": {
    "slideshow": {
     "slide_type": "fragment"
    }
   },
   "outputs": [
    {
     "data": {
      "text/plain": [
       "array([ 0,  1,  2,  3,  4,  5,  6,  7,  8,  9, 10, 11])"
      ]
     },
     "execution_count": 29,
     "metadata": {},
     "output_type": "execute_result"
    }
   ],
   "source": [
    "#all numbers from 0,N\n",
    "np.arange(12)\n"
   ]
  },
  {
   "cell_type": "code",
   "execution_count": 30,
   "metadata": {
    "slideshow": {
     "slide_type": "fragment"
    }
   },
   "outputs": [
    {
     "data": {
      "text/plain": [
       "array([ 5,  6,  7,  8,  9, 10])"
      ]
     },
     "execution_count": 30,
     "metadata": {},
     "output_type": "execute_result"
    }
   ],
   "source": [
    "#or a specific range\n",
    "np.arange(5,11)"
   ]
  },
  {
   "cell_type": "code",
   "execution_count": 31,
   "metadata": {
    "slideshow": {
     "slide_type": "fragment"
    }
   },
   "outputs": [
    {
     "name": "stdout",
     "output_type": "stream",
     "text": [
      "[[ 5  6]\n",
      " [ 7  8]\n",
      " [ 9 10]\n",
      " [11 12]\n",
      " [13 14]]\n"
     ]
    }
   ],
   "source": [
    "#can be converted to a matrix\n",
    "matG = np.arange(5,15).reshape(5,2)\n",
    "print(matG)\n"
   ]
  },
  {
   "cell_type": "code",
   "execution_count": 32,
   "metadata": {
    "slideshow": {
     "slide_type": "slide"
    }
   },
   "outputs": [
    {
     "name": "stdout",
     "output_type": "stream",
     "text": [
      "[[ 60  71  82  93 104]\n",
      " [ 80  95 110 125 140]\n",
      " [100 119 138 157 176]\n",
      " [120 143 166 189 212]\n",
      " [140 167 194 221 248]]\n"
     ]
    }
   ],
   "source": [
    "#matrix product:\n",
    "tmp = matG.dot(matD)\n",
    "print(tmp)\n"
   ]
  },
  {
   "cell_type": "code",
   "execution_count": 33,
   "metadata": {
    "slideshow": {
     "slide_type": "fragment"
    }
   },
   "outputs": [
    {
     "name": "stdout",
     "output_type": "stream",
     "text": [
      "60\n",
      "[100 119 138 157 176]\n",
      "[ 93 125 157 189 221]\n"
     ]
    }
   ],
   "source": [
    "#access elements in a matrix, or entire rows (pyhon starts indexing at 0!)\n",
    "#top left element\n",
    "print(tmp[0,0])\n",
    "#3rd row\n",
    "print(tmp[2,:])\n",
    "#4th column\n",
    "print(tmp[:,3])"
   ]
  },
  {
   "cell_type": "code",
   "execution_count": 34,
   "metadata": {
    "slideshow": {
     "slide_type": "fragment"
    }
   },
   "outputs": [
    {
     "data": {
      "text/plain": [
       "array([[ 95, 110, 125],\n",
       "       [119, 138, 157],\n",
       "       [143, 166, 189]])"
      ]
     },
     "execution_count": 34,
     "metadata": {},
     "output_type": "execute_result"
    }
   ],
   "source": [
    "#cut a piece of the matrix\n",
    "tmp[1:4,1:4]"
   ]
  },
  {
   "cell_type": "code",
   "execution_count": 35,
   "metadata": {
    "slideshow": {
     "slide_type": "slide"
    }
   },
   "outputs": [
    {
     "name": "stdout",
     "output_type": "stream",
     "text": [
      "[[ 2.   4.4  8.8]\n",
      " [ 3.   6.6 13.2]\n",
      " [ 4.   8.8 17.6]]\n"
     ]
    }
   ],
   "source": [
    "#product of two vectors (not, dot-product)\n",
    "result = vecA.reshape(3,1).dot(vecB.reshape(1,3))\n",
    "print(result)"
   ]
  },
  {
   "cell_type": "code",
   "execution_count": 36,
   "metadata": {
    "scrolled": true,
    "slideshow": {
     "slide_type": "slide"
    }
   },
   "outputs": [
    {
     "data": {
      "text/plain": [
       "array([[ 5, -4],\n",
       "       [ 6, -3],\n",
       "       [ 7, -2],\n",
       "       [ 8, -1],\n",
       "       [ 9,  0]])"
      ]
     },
     "execution_count": 36,
     "metadata": {},
     "output_type": "execute_result"
    }
   ],
   "source": [
    "#basic operations\n",
    "matG - matD.transpose()\n"
   ]
  },
  {
   "cell_type": "code",
   "execution_count": 44,
   "metadata": {
    "slideshow": {
     "slide_type": "slide"
    }
   },
   "outputs": [
    {
     "name": "stdout",
     "output_type": "stream",
     "text": [
      "[1. 1. 1.]\n",
      "\n",
      "\n",
      "[[ 2.   4.4  8.8]\n",
      " [ 3.   6.6 13.2]\n",
      " [ 4.   8.8 17.6]\n",
      " [ 1.   1.   1. ]]\n",
      "\n",
      "\n",
      "[[ 2.   4.4  8.8  1. ]\n",
      " [ 3.   6.6 13.2  1. ]\n",
      " [ 4.   8.8 17.6  1. ]]\n",
      "\n",
      "\n",
      "[[ 1.   2.   4.4  8.8]\n",
      " [ 1.   3.   6.6 13.2]\n",
      " [ 1.   4.   8.8 17.6]]\n"
     ]
    }
   ],
   "source": [
    "#adding coluns/rows to matrices\n",
    "ones = np.ones(result.shape[0])\n",
    "print(ones)\n",
    "print(\"\\n\")\n",
    "#add a row at the bottom, we may have to use reshape\n",
    "print(np.append(result,ones.reshape(1,3), axis=0))\n",
    "print(\"\\n\")\n",
    "#add a column to the right, we may have to use reshape\n",
    "print(np.append(result,ones.reshape(3,1), axis=1))\n",
    "print(\"\\n\")\n",
    "#add a column at the left, we may have to use reshape\n",
    "print(np.append(ones.reshape(3,1), result, axis=1))\n"
   ]
  },
  {
   "cell_type": "markdown",
   "metadata": {
    "slideshow": {
     "slide_type": "slide"
    }
   },
   "source": [
    "### Linear Algebra Algorithms"
   ]
  },
  {
   "cell_type": "markdown",
   "metadata": {
    "slideshow": {
     "slide_type": "fragment"
    }
   },
   "source": [
    "A big part of numpy is the linalg class, which implements a lot of different commonly used linear algebra algorithms."
   ]
  },
  {
   "cell_type": "markdown",
   "metadata": {
    "slideshow": {
     "slide_type": "subslide"
    }
   },
   "source": [
    "Let $ H = G \\cdot D + 0.01 * I$, now compute $ H^{-1} $"
   ]
  },
  {
   "cell_type": "code",
   "execution_count": 37,
   "metadata": {
    "scrolled": true,
    "slideshow": {
     "slide_type": "fragment"
    }
   },
   "outputs": [
    {
     "data": {
      "text/plain": [
       "array([[ 40.37526652, -39.78059766, -19.93646184,  -0.09232601,\n",
       "         19.75180981],\n",
       "       [-39.78953243,  70.12310433, -19.96425891, -10.05162215,\n",
       "         -0.13898539],\n",
       "       [-19.95433139, -19.97319369,  80.00794401, -20.0109183 ,\n",
       "        -20.0297806 ],\n",
       "       [ -0.11913034, -10.0694917 , -20.01985307,  70.02978556,\n",
       "        -39.9205758 ],\n",
       "       [ 19.71607071,  -0.16578972, -20.04765015, -39.92951058,\n",
       "         40.18862899]])"
      ]
     },
     "execution_count": 37,
     "metadata": {},
     "output_type": "execute_result"
    }
   ],
   "source": [
    "#compute the inverse of a matrix:\n",
    "matH = matG.dot(matD) + 0.01 * np.eye(5)\n",
    "np.linalg.inv(matH)"
   ]
  },
  {
   "cell_type": "markdown",
   "metadata": {
    "slideshow": {
     "slide_type": "subslide"
    }
   },
   "source": [
    "Compute the determinant of H: $ |H| $ or $ \\det(H)$"
   ]
  },
  {
   "cell_type": "code",
   "execution_count": 38,
   "metadata": {
    "slideshow": {
     "slide_type": "fragment"
    }
   },
   "outputs": [
    {
     "data": {
      "text/plain": [
       "0.0010073000999992242"
      ]
     },
     "execution_count": 38,
     "metadata": {},
     "output_type": "execute_result"
    }
   ],
   "source": [
    "#or its determinant\n",
    "np.linalg.det(matH)"
   ]
  },
  {
   "cell_type": "markdown",
   "metadata": {
    "slideshow": {
     "slide_type": "subslide"
    }
   },
   "source": [
    "Compute singular value decompsition (SVD) and Eigendecomposition\n"
   ]
  },
  {
   "cell_type": "code",
   "execution_count": 39,
   "metadata": {
    "slideshow": {
     "slide_type": "fragment"
    }
   },
   "outputs": [],
   "source": [
    "#singular value decomposition\n",
    "U, S, V = np.linalg.svd(matH)"
   ]
  },
  {
   "cell_type": "code",
   "execution_count": 40,
   "metadata": {
    "slideshow": {
     "slide_type": "fragment"
    }
   },
   "outputs": [],
   "source": [
    "#eigen value decomposition\n",
    "D, H = np.linalg.eig(matH)"
   ]
  },
  {
   "cell_type": "code",
   "execution_count": 41,
   "metadata": {
    "slideshow": {
     "slide_type": "subslide"
    }
   },
   "outputs": [
    {
     "name": "stdout",
     "output_type": "stream",
     "text": [
      "[-185.83303631+0.j -249.50134417+0.j -313.16965204+0.j -376.8379599 +0.j\n",
      " -440.50626777+0.j]\n",
      "(728.6375567115341+0j)\n",
      "[728.63755671-0.j 728.63755671-0.j 728.63755671-0.j 728.63755671-0.j\n",
      " 728.63755671-0.j]\n"
     ]
    }
   ],
   "source": [
    "tmp2 = matH.dot(H[:,0])\n",
    "print(tmp2)\n",
    "\n",
    "print(D[0])\n",
    "\n",
    "print(tmp2 / H[:,0])"
   ]
  },
  {
   "cell_type": "code",
   "execution_count": 42,
   "metadata": {
    "slideshow": {
     "slide_type": "fragment"
    }
   },
   "outputs": [
    {
     "name": "stdout",
     "output_type": "stream",
     "text": [
      "5.385164807134504\n",
      "731.4127429160637\n",
      "1.0\n"
     ]
    }
   ],
   "source": [
    "#norm of a vector\n",
    "print(np.linalg.norm(vecA))\n",
    "#nrom of a matrix\n",
    "print(np.linalg.norm(matH))\n",
    "\n",
    "print(np.linalg.norm(H[:,0]))\n"
   ]
  },
  {
   "cell_type": "markdown",
   "metadata": {
    "slideshow": {
     "slide_type": "slide"
    }
   },
   "source": [
    "## Random numbers"
   ]
  },
  {
   "cell_type": "markdown",
   "metadata": {
    "slideshow": {
     "slide_type": "fragment"
    }
   },
   "source": [
    "For some applications we will need to generate random samples (i.e., draw random samples from our datasets). Predominanlty to implement cross validation and/or bootstrap."
   ]
  },
  {
   "cell_type": "code",
   "execution_count": 87,
   "metadata": {
    "slideshow": {
     "slide_type": "subslide"
    }
   },
   "outputs": [
    {
     "name": "stdout",
     "output_type": "stream",
     "text": [
      "[2 2 2 5 5 2 2 5 3 1 4 1 5 3 5 2 3 4 2 5 1 2 5 3 3 1 1 2 3 4 2 1 5 4 5 3 4\n",
      " 1 5 5 2 3 5 5 5 1 3 1 2 3 2 5 4 1 3 3 4 3 1 4 4 3 1 1 5 1 2 1 2 4 3 1 2 3\n",
      " 3 3 3 4 4 5 1 3 1 5 1 3 5 2 5 2 3 2 3 2 1 2 3 4 4 1]\n"
     ]
    }
   ],
   "source": [
    "#generate 10 integers in the range of 1-5:\n",
    "rsample = np.random.choice(np.arange(1,6), size=100, replace=True )\n",
    "print(rsample)"
   ]
  },
  {
   "cell_type": "code",
   "execution_count": 88,
   "metadata": {
    "slideshow": {
     "slide_type": "fragment"
    }
   },
   "outputs": [
    {
     "name": "stdout",
     "output_type": "stream",
     "text": [
      "[False False False False False False False False False False  True False\n",
      " False False False False False  True False False False False False False\n",
      " False False False False False  True False False False  True False False\n",
      "  True False False False False False False False False False False False\n",
      " False False False False  True False False False  True False False  True\n",
      "  True False False False False False False False False  True False False\n",
      " False False False False False  True  True False False False False False\n",
      " False False False False False False False False False False False False\n",
      " False  True  True False]\n"
     ]
    }
   ],
   "source": [
    "ridx = rsample==4\n",
    "print(ridx)"
   ]
  },
  {
   "cell_type": "markdown",
   "metadata": {
    "slideshow": {
     "slide_type": "slide"
    }
   },
   "source": [
    "# An important package for data science: pandas"
   ]
  },
  {
   "cell_type": "markdown",
   "metadata": {
    "slideshow": {
     "slide_type": "subslide"
    }
   },
   "source": [
    "Makes data handling easier. Not meant to replace numpy etc. but implements \"data frames\" that can store multiple different data types (e.g, numbers and texts). And makes indexing columns and rows of data sets quite flexible.\n",
    "More info here: https://pandas.pydata.org/. Highly, recommended: the *getting started with pandas in 10 mins* guide (https://pandas.pydata.org/docs/getting_started/10min.html)."
   ]
  },
  {
   "cell_type": "markdown",
   "metadata": {
    "slideshow": {
     "slide_type": "slide"
    }
   },
   "source": [
    "## Read data"
   ]
  },
  {
   "cell_type": "code",
   "execution_count": 15,
   "metadata": {
    "slideshow": {
     "slide_type": "fragment"
    }
   },
   "outputs": [],
   "source": [
    "#read csv file\n",
    "mydata = pd.read_csv(\"./adni_sample.csv\")"
   ]
  },
  {
   "cell_type": "code",
   "execution_count": 46,
   "metadata": {
    "slideshow": {
     "slide_type": "fragment"
    }
   },
   "outputs": [
    {
     "data": {
      "text/html": [
       "<div>\n",
       "<style scoped>\n",
       "    .dataframe tbody tr th:only-of-type {\n",
       "        vertical-align: middle;\n",
       "    }\n",
       "\n",
       "    .dataframe tbody tr th {\n",
       "        vertical-align: top;\n",
       "    }\n",
       "\n",
       "    .dataframe thead th {\n",
       "        text-align: right;\n",
       "    }\n",
       "</style>\n",
       "<table border=\"1\" class=\"dataframe\">\n",
       "  <thead>\n",
       "    <tr style=\"text-align: right;\">\n",
       "      <th></th>\n",
       "      <th>RID</th>\n",
       "      <th>COLPROT</th>\n",
       "      <th>ORIGPROT</th>\n",
       "      <th>PTID</th>\n",
       "      <th>SITE</th>\n",
       "      <th>VISCODE</th>\n",
       "      <th>EXAMDATE</th>\n",
       "      <th>DX.bl</th>\n",
       "      <th>AGE</th>\n",
       "      <th>PTGENDER</th>\n",
       "      <th>...</th>\n",
       "      <th>ABETA.bl</th>\n",
       "      <th>TAU.bl</th>\n",
       "      <th>PTAU.bl</th>\n",
       "      <th>FDG.bl</th>\n",
       "      <th>PIB.bl</th>\n",
       "      <th>AV45.bl</th>\n",
       "      <th>Years.bl</th>\n",
       "      <th>Month.bl</th>\n",
       "      <th>Month</th>\n",
       "      <th>M</th>\n",
       "    </tr>\n",
       "  </thead>\n",
       "  <tbody>\n",
       "    <tr>\n",
       "      <th>0</th>\n",
       "      <td>16</td>\n",
       "      <td>ADNI1</td>\n",
       "      <td>ADNI1</td>\n",
       "      <td>011_S_0016</td>\n",
       "      <td>11</td>\n",
       "      <td>m30</td>\n",
       "      <td>2008-04-29</td>\n",
       "      <td>CN</td>\n",
       "      <td>65.4</td>\n",
       "      <td>Male</td>\n",
       "      <td>...</td>\n",
       "      <td>550.6</td>\n",
       "      <td>170.5</td>\n",
       "      <td>15.88</td>\n",
       "      <td>1.387019</td>\n",
       "      <td>NaN</td>\n",
       "      <td>NaN</td>\n",
       "      <td>2.543463</td>\n",
       "      <td>30.459016</td>\n",
       "      <td>30</td>\n",
       "      <td>30</td>\n",
       "    </tr>\n",
       "    <tr>\n",
       "      <th>1</th>\n",
       "      <td>30</td>\n",
       "      <td>ADNI1</td>\n",
       "      <td>ADNI1</td>\n",
       "      <td>023_S_0030</td>\n",
       "      <td>23</td>\n",
       "      <td>m36</td>\n",
       "      <td>2008-11-26</td>\n",
       "      <td>LMCI</td>\n",
       "      <td>80.0</td>\n",
       "      <td>Female</td>\n",
       "      <td>...</td>\n",
       "      <td>NaN</td>\n",
       "      <td>NaN</td>\n",
       "      <td>NaN</td>\n",
       "      <td>NaN</td>\n",
       "      <td>NaN</td>\n",
       "      <td>NaN</td>\n",
       "      <td>3.101985</td>\n",
       "      <td>37.147541</td>\n",
       "      <td>36</td>\n",
       "      <td>36</td>\n",
       "    </tr>\n",
       "    <tr>\n",
       "      <th>2</th>\n",
       "      <td>58</td>\n",
       "      <td>ADNI1</td>\n",
       "      <td>ADNI1</td>\n",
       "      <td>023_S_0058</td>\n",
       "      <td>23</td>\n",
       "      <td>m06</td>\n",
       "      <td>2006-06-13</td>\n",
       "      <td>CN</td>\n",
       "      <td>70.1</td>\n",
       "      <td>Male</td>\n",
       "      <td>...</td>\n",
       "      <td>NaN</td>\n",
       "      <td>NaN</td>\n",
       "      <td>NaN</td>\n",
       "      <td>NaN</td>\n",
       "      <td>NaN</td>\n",
       "      <td>NaN</td>\n",
       "      <td>0.501027</td>\n",
       "      <td>6.000000</td>\n",
       "      <td>6</td>\n",
       "      <td>6</td>\n",
       "    </tr>\n",
       "    <tr>\n",
       "      <th>3</th>\n",
       "      <td>67</td>\n",
       "      <td>ADNI1</td>\n",
       "      <td>ADNI1</td>\n",
       "      <td>010_S_0067</td>\n",
       "      <td>10</td>\n",
       "      <td>bl</td>\n",
       "      <td>2006-01-18</td>\n",
       "      <td>CN</td>\n",
       "      <td>74.5</td>\n",
       "      <td>Male</td>\n",
       "      <td>...</td>\n",
       "      <td>NaN</td>\n",
       "      <td>NaN</td>\n",
       "      <td>NaN</td>\n",
       "      <td>1.136805</td>\n",
       "      <td>NaN</td>\n",
       "      <td>NaN</td>\n",
       "      <td>0.000000</td>\n",
       "      <td>0.000000</td>\n",
       "      <td>0</td>\n",
       "      <td>0</td>\n",
       "    </tr>\n",
       "    <tr>\n",
       "      <th>4</th>\n",
       "      <td>107</td>\n",
       "      <td>ADNI2</td>\n",
       "      <td>ADNI1</td>\n",
       "      <td>136_S_0107</td>\n",
       "      <td>136</td>\n",
       "      <td>m66</td>\n",
       "      <td>2012-01-29</td>\n",
       "      <td>LMCI</td>\n",
       "      <td>60.7</td>\n",
       "      <td>Female</td>\n",
       "      <td>...</td>\n",
       "      <td>1652</td>\n",
       "      <td>198.9</td>\n",
       "      <td>16.31</td>\n",
       "      <td>NaN</td>\n",
       "      <td>NaN</td>\n",
       "      <td>NaN</td>\n",
       "      <td>5.919233</td>\n",
       "      <td>70.885246</td>\n",
       "      <td>72</td>\n",
       "      <td>66</td>\n",
       "    </tr>\n",
       "  </tbody>\n",
       "</table>\n",
       "<p>5 rows × 113 columns</p>\n",
       "</div>"
      ],
      "text/plain": [
       "   RID COLPROT ORIGPROT        PTID  SITE VISCODE    EXAMDATE DX.bl   AGE  \\\n",
       "0   16   ADNI1    ADNI1  011_S_0016    11     m30  2008-04-29    CN  65.4   \n",
       "1   30   ADNI1    ADNI1  023_S_0030    23     m36  2008-11-26  LMCI  80.0   \n",
       "2   58   ADNI1    ADNI1  023_S_0058    23     m06  2006-06-13    CN  70.1   \n",
       "3   67   ADNI1    ADNI1  010_S_0067    10      bl  2006-01-18    CN  74.5   \n",
       "4  107   ADNI2    ADNI1  136_S_0107   136     m66  2012-01-29  LMCI  60.7   \n",
       "\n",
       "  PTGENDER ...  ABETA.bl TAU.bl PTAU.bl    FDG.bl  PIB.bl  AV45.bl  Years.bl  \\\n",
       "0     Male ...     550.6  170.5   15.88  1.387019     NaN      NaN  2.543463   \n",
       "1   Female ...       NaN    NaN     NaN       NaN     NaN      NaN  3.101985   \n",
       "2     Male ...       NaN    NaN     NaN       NaN     NaN      NaN  0.501027   \n",
       "3     Male ...       NaN    NaN     NaN  1.136805     NaN      NaN  0.000000   \n",
       "4   Female ...      1652  198.9   16.31       NaN     NaN      NaN  5.919233   \n",
       "\n",
       "    Month.bl Month   M  \n",
       "0  30.459016    30  30  \n",
       "1  37.147541    36  36  \n",
       "2   6.000000     6   6  \n",
       "3   0.000000     0   0  \n",
       "4  70.885246    72  66  \n",
       "\n",
       "[5 rows x 113 columns]"
      ]
     },
     "execution_count": 46,
     "metadata": {},
     "output_type": "execute_result"
    }
   ],
   "source": [
    "#check out the first few rows\n",
    "mydata.head()"
   ]
  },
  {
   "cell_type": "markdown",
   "metadata": {
    "slideshow": {
     "slide_type": "subslide"
    }
   },
   "source": [
    "### Access Columns"
   ]
  },
  {
   "cell_type": "code",
   "execution_count": 47,
   "metadata": {
    "slideshow": {
     "slide_type": "fragment"
    }
   },
   "outputs": [
    {
     "data": {
      "text/plain": [
       "0    65.4\n",
       "1    80.0\n",
       "2    70.1\n",
       "3    74.5\n",
       "4    60.7\n",
       "Name: AGE, dtype: float64"
      ]
     },
     "execution_count": 47,
     "metadata": {},
     "output_type": "execute_result"
    }
   ],
   "source": [
    "#access specific columns:\n",
    "mydata.AGE.head()\n"
   ]
  },
  {
   "cell_type": "code",
   "execution_count": 49,
   "metadata": {
    "slideshow": {
     "slide_type": "fragment"
    }
   },
   "outputs": [
    {
     "data": {
      "text/plain": [
       "0    65.4\n",
       "1    80.0\n",
       "2    70.1\n",
       "3    74.5\n",
       "4    60.7\n",
       "Name: AGE, dtype: float64"
      ]
     },
     "execution_count": 49,
     "metadata": {},
     "output_type": "execute_result"
    }
   ],
   "source": [
    "#alternatively:\n",
    "mydata.loc[:,\"AGE\"].head()"
   ]
  },
  {
   "cell_type": "code",
   "execution_count": 50,
   "metadata": {
    "slideshow": {
     "slide_type": "subslide"
    }
   },
   "outputs": [
    {
     "data": {
      "text/plain": [
       "0    65.4\n",
       "1    80.0\n",
       "2    70.1\n",
       "3    74.5\n",
       "4    60.7\n",
       "Name: AGE, dtype: float64"
      ]
     },
     "execution_count": 50,
     "metadata": {},
     "output_type": "execute_result"
    }
   ],
   "source": [
    "#alternatively, or by column index\n",
    "mydata.iloc[:,8].head()"
   ]
  },
  {
   "cell_type": "markdown",
   "metadata": {
    "slideshow": {
     "slide_type": "slide"
    }
   },
   "source": [
    "### Access Rows"
   ]
  },
  {
   "cell_type": "code",
   "execution_count": 51,
   "metadata": {
    "slideshow": {
     "slide_type": "fragment"
    }
   },
   "outputs": [
    {
     "data": {
      "text/plain": [
       "RID                107\n",
       "COLPROT          ADNI2\n",
       "ORIGPROT         ADNI1\n",
       "PTID        136_S_0107\n",
       "SITE               136\n",
       "Name: 4, dtype: object"
      ]
     },
     "execution_count": 51,
     "metadata": {},
     "output_type": "execute_result"
    }
   ],
   "source": [
    "#similar to columns, we can access by numbers\n",
    "mydata.iloc[4,:].head()"
   ]
  },
  {
   "cell_type": "code",
   "execution_count": 52,
   "metadata": {
    "slideshow": {
     "slide_type": "fragment"
    }
   },
   "outputs": [
    {
     "data": {
      "text/plain": [
       "RID                 58\n",
       "COLPROT          ADNI1\n",
       "ORIGPROT         ADNI1\n",
       "PTID        023_S_0058\n",
       "SITE                23\n",
       "Name: 023_S_0058, dtype: object"
      ]
     },
     "execution_count": 52,
     "metadata": {},
     "output_type": "execute_result"
    }
   ],
   "source": [
    "#but if we set the index to PTID, then we can use PTID to access data\n",
    "mydata.set_index(mydata.PTID, inplace=True)\n",
    "mydata.loc[\"023_S_0058\"].head()"
   ]
  },
  {
   "cell_type": "code",
   "execution_count": 53,
   "metadata": {
    "slideshow": {
     "slide_type": "subslide"
    }
   },
   "outputs": [],
   "source": [
    "#using a 'logic vector'\n",
    "#subjects visit as 12 months or earlier\n",
    "idx = mydata.loc[:,\"Month.bl\"] <= 12.0"
   ]
  },
  {
   "cell_type": "code",
   "execution_count": 54,
   "metadata": {
    "slideshow": {
     "slide_type": "fragment"
    }
   },
   "outputs": [
    {
     "data": {
      "text/plain": [
       "PTID\n",
       "011_S_0016    False\n",
       "023_S_0030    False\n",
       "023_S_0058     True\n",
       "010_S_0067     True\n",
       "136_S_0107    False\n",
       "Name: Month.bl, dtype: bool"
      ]
     },
     "execution_count": 54,
     "metadata": {},
     "output_type": "execute_result"
    }
   ],
   "source": [
    "idx.head()"
   ]
  },
  {
   "cell_type": "code",
   "execution_count": 55,
   "metadata": {
    "slideshow": {
     "slide_type": "fragment"
    }
   },
   "outputs": [
    {
     "data": {
      "text/html": [
       "<div>\n",
       "<style scoped>\n",
       "    .dataframe tbody tr th:only-of-type {\n",
       "        vertical-align: middle;\n",
       "    }\n",
       "\n",
       "    .dataframe tbody tr th {\n",
       "        vertical-align: top;\n",
       "    }\n",
       "\n",
       "    .dataframe thead th {\n",
       "        text-align: right;\n",
       "    }\n",
       "</style>\n",
       "<table border=\"1\" class=\"dataframe\">\n",
       "  <thead>\n",
       "    <tr style=\"text-align: right;\">\n",
       "      <th></th>\n",
       "      <th>RID</th>\n",
       "      <th>COLPROT</th>\n",
       "      <th>ORIGPROT</th>\n",
       "      <th>PTID</th>\n",
       "      <th>SITE</th>\n",
       "      <th>VISCODE</th>\n",
       "      <th>EXAMDATE</th>\n",
       "      <th>DX.bl</th>\n",
       "      <th>AGE</th>\n",
       "      <th>PTGENDER</th>\n",
       "      <th>...</th>\n",
       "      <th>ABETA.bl</th>\n",
       "      <th>TAU.bl</th>\n",
       "      <th>PTAU.bl</th>\n",
       "      <th>FDG.bl</th>\n",
       "      <th>PIB.bl</th>\n",
       "      <th>AV45.bl</th>\n",
       "      <th>Years.bl</th>\n",
       "      <th>Month.bl</th>\n",
       "      <th>Month</th>\n",
       "      <th>M</th>\n",
       "    </tr>\n",
       "    <tr>\n",
       "      <th>PTID</th>\n",
       "      <th></th>\n",
       "      <th></th>\n",
       "      <th></th>\n",
       "      <th></th>\n",
       "      <th></th>\n",
       "      <th></th>\n",
       "      <th></th>\n",
       "      <th></th>\n",
       "      <th></th>\n",
       "      <th></th>\n",
       "      <th></th>\n",
       "      <th></th>\n",
       "      <th></th>\n",
       "      <th></th>\n",
       "      <th></th>\n",
       "      <th></th>\n",
       "      <th></th>\n",
       "      <th></th>\n",
       "      <th></th>\n",
       "      <th></th>\n",
       "      <th></th>\n",
       "    </tr>\n",
       "  </thead>\n",
       "  <tbody>\n",
       "    <tr>\n",
       "      <th>023_S_0058</th>\n",
       "      <td>58</td>\n",
       "      <td>ADNI1</td>\n",
       "      <td>ADNI1</td>\n",
       "      <td>023_S_0058</td>\n",
       "      <td>23</td>\n",
       "      <td>m06</td>\n",
       "      <td>2006-06-13</td>\n",
       "      <td>CN</td>\n",
       "      <td>70.1</td>\n",
       "      <td>Male</td>\n",
       "      <td>...</td>\n",
       "      <td>NaN</td>\n",
       "      <td>NaN</td>\n",
       "      <td>NaN</td>\n",
       "      <td>NaN</td>\n",
       "      <td>NaN</td>\n",
       "      <td>NaN</td>\n",
       "      <td>0.501027</td>\n",
       "      <td>6.0</td>\n",
       "      <td>6</td>\n",
       "      <td>6</td>\n",
       "    </tr>\n",
       "    <tr>\n",
       "      <th>010_S_0067</th>\n",
       "      <td>67</td>\n",
       "      <td>ADNI1</td>\n",
       "      <td>ADNI1</td>\n",
       "      <td>010_S_0067</td>\n",
       "      <td>10</td>\n",
       "      <td>bl</td>\n",
       "      <td>2006-01-18</td>\n",
       "      <td>CN</td>\n",
       "      <td>74.5</td>\n",
       "      <td>Male</td>\n",
       "      <td>...</td>\n",
       "      <td>NaN</td>\n",
       "      <td>NaN</td>\n",
       "      <td>NaN</td>\n",
       "      <td>1.136805</td>\n",
       "      <td>NaN</td>\n",
       "      <td>NaN</td>\n",
       "      <td>0.000000</td>\n",
       "      <td>0.0</td>\n",
       "      <td>0</td>\n",
       "      <td>0</td>\n",
       "    </tr>\n",
       "    <tr>\n",
       "      <th>002_S_0413</th>\n",
       "      <td>413</td>\n",
       "      <td>ADNI1</td>\n",
       "      <td>ADNI1</td>\n",
       "      <td>002_S_0413</td>\n",
       "      <td>2</td>\n",
       "      <td>bl</td>\n",
       "      <td>2006-05-08</td>\n",
       "      <td>CN</td>\n",
       "      <td>76.3</td>\n",
       "      <td>Female</td>\n",
       "      <td>...</td>\n",
       "      <td>1006</td>\n",
       "      <td>107.3</td>\n",
       "      <td>10.57</td>\n",
       "      <td>NaN</td>\n",
       "      <td>NaN</td>\n",
       "      <td>NaN</td>\n",
       "      <td>0.000000</td>\n",
       "      <td>0.0</td>\n",
       "      <td>0</td>\n",
       "      <td>0</td>\n",
       "    </tr>\n",
       "    <tr>\n",
       "      <th>027_S_0461</th>\n",
       "      <td>461</td>\n",
       "      <td>ADNI1</td>\n",
       "      <td>ADNI1</td>\n",
       "      <td>027_S_0461</td>\n",
       "      <td>27</td>\n",
       "      <td>bl</td>\n",
       "      <td>2006-06-16</td>\n",
       "      <td>LMCI</td>\n",
       "      <td>80.3</td>\n",
       "      <td>Male</td>\n",
       "      <td>...</td>\n",
       "      <td>NaN</td>\n",
       "      <td>NaN</td>\n",
       "      <td>NaN</td>\n",
       "      <td>0.989498</td>\n",
       "      <td>NaN</td>\n",
       "      <td>NaN</td>\n",
       "      <td>0.000000</td>\n",
       "      <td>0.0</td>\n",
       "      <td>0</td>\n",
       "      <td>0</td>\n",
       "    </tr>\n",
       "    <tr>\n",
       "      <th>128_S_0517</th>\n",
       "      <td>517</td>\n",
       "      <td>ADNI1</td>\n",
       "      <td>ADNI1</td>\n",
       "      <td>128_S_0517</td>\n",
       "      <td>128</td>\n",
       "      <td>bl</td>\n",
       "      <td>2006-06-08</td>\n",
       "      <td>AD</td>\n",
       "      <td>81.8</td>\n",
       "      <td>Male</td>\n",
       "      <td>...</td>\n",
       "      <td>NaN</td>\n",
       "      <td>NaN</td>\n",
       "      <td>NaN</td>\n",
       "      <td>NaN</td>\n",
       "      <td>NaN</td>\n",
       "      <td>NaN</td>\n",
       "      <td>0.000000</td>\n",
       "      <td>0.0</td>\n",
       "      <td>0</td>\n",
       "      <td>0</td>\n",
       "    </tr>\n",
       "  </tbody>\n",
       "</table>\n",
       "<p>5 rows × 113 columns</p>\n",
       "</div>"
      ],
      "text/plain": [
       "            RID COLPROT ORIGPROT        PTID  SITE VISCODE    EXAMDATE DX.bl  \\\n",
       "PTID                                                                           \n",
       "023_S_0058   58   ADNI1    ADNI1  023_S_0058    23     m06  2006-06-13    CN   \n",
       "010_S_0067   67   ADNI1    ADNI1  010_S_0067    10      bl  2006-01-18    CN   \n",
       "002_S_0413  413   ADNI1    ADNI1  002_S_0413     2      bl  2006-05-08    CN   \n",
       "027_S_0461  461   ADNI1    ADNI1  027_S_0461    27      bl  2006-06-16  LMCI   \n",
       "128_S_0517  517   ADNI1    ADNI1  128_S_0517   128      bl  2006-06-08    AD   \n",
       "\n",
       "             AGE PTGENDER ...  ABETA.bl TAU.bl PTAU.bl    FDG.bl  PIB.bl  \\\n",
       "PTID                      ...                                              \n",
       "023_S_0058  70.1     Male ...       NaN    NaN     NaN       NaN     NaN   \n",
       "010_S_0067  74.5     Male ...       NaN    NaN     NaN  1.136805     NaN   \n",
       "002_S_0413  76.3   Female ...      1006  107.3   10.57       NaN     NaN   \n",
       "027_S_0461  80.3     Male ...       NaN    NaN     NaN  0.989498     NaN   \n",
       "128_S_0517  81.8     Male ...       NaN    NaN     NaN       NaN     NaN   \n",
       "\n",
       "            AV45.bl  Years.bl  Month.bl Month  M  \n",
       "PTID                                              \n",
       "023_S_0058      NaN  0.501027       6.0     6  6  \n",
       "010_S_0067      NaN  0.000000       0.0     0  0  \n",
       "002_S_0413      NaN  0.000000       0.0     0  0  \n",
       "027_S_0461      NaN  0.000000       0.0     0  0  \n",
       "128_S_0517      NaN  0.000000       0.0     0  0  \n",
       "\n",
       "[5 rows x 113 columns]"
      ]
     },
     "execution_count": 55,
     "metadata": {},
     "output_type": "execute_result"
    }
   ],
   "source": [
    "mydata[idx].head()"
   ]
  },
  {
   "cell_type": "markdown",
   "metadata": {
    "slideshow": {
     "slide_type": "slide"
    }
   },
   "source": [
    "There are many more useful functions to handle and manipulate data frames, such as adding rows and columns (pd.concat: https://pandas.pydata.org/pandas-docs/stable/reference/api/pandas.concat.html?highlight=concat#pandas.concat) and merging data frames (merge: https://pandas.pydata.org/pandas-docs/stable/reference/api/pandas.merge.html?highlight=merge#pandas.merge)."
   ]
  },
  {
   "cell_type": "code",
   "execution_count": 56,
   "metadata": {
    "slideshow": {
     "slide_type": "subslide"
    }
   },
   "outputs": [
    {
     "data": {
      "text/plain": [
       "array(['RID', 'COLPROT', 'ORIGPROT', 'PTID', 'SITE', 'VISCODE',\n",
       "       'EXAMDATE', 'DX.bl', 'AGE', 'PTGENDER', 'PTEDUCAT', 'PTETHCAT',\n",
       "       'PTRACCAT', 'PTMARRY', 'APOE4', 'FDG', 'PIB', 'AV45', 'ABETA',\n",
       "       'TAU', 'PTAU', 'CDRSB', 'ADAS11', 'ADAS13', 'ADASQ4', 'MMSE',\n",
       "       'RAVLT.immediate', 'RAVLT.learning', 'RAVLT.forgetting',\n",
       "       'RAVLT.perc.forgetting', 'LDELTOTAL', 'DIGITSCOR', 'TRABSCOR',\n",
       "       'FAQ', 'MOCA', 'EcogPtMem', 'EcogPtLang', 'EcogPtVisspat',\n",
       "       'EcogPtPlan', 'EcogPtOrgan', 'EcogPtDivatt', 'EcogPtTotal',\n",
       "       'EcogSPMem', 'EcogSPLang', 'EcogSPVisspat', 'EcogSPPlan',\n",
       "       'EcogSPOrgan', 'EcogSPDivatt', 'EcogSPTotal', 'FLDSTRENG',\n",
       "       'FSVERSION', 'IMAGEUID', 'Ventricles', 'Hippocampus', 'WholeBrain',\n",
       "       'Entorhinal', 'Fusiform', 'MidTemp', 'ICV', 'DX', 'mPACCdigit',\n",
       "       'mPACCtrailsB', 'EXAMDATE.bl', 'CDRSB.bl', 'ADAS11.bl',\n",
       "       'ADAS13.bl', 'ADASQ4.bl', 'MMSE.bl', 'RAVLT.immediate.bl',\n",
       "       'RAVLT.learning.bl', 'RAVLT.forgetting.bl',\n",
       "       'RAVLT.perc.forgetting.bl', 'LDELTOTAL.bl', 'DIGITSCOR.bl',\n",
       "       'TRABSCOR.bl', 'FAQ.bl', 'mPACCdigit.bl', 'mPACCtrailsB.bl',\n",
       "       'FLDSTRENG.bl', 'FSVERSION.bl', 'IMAGEUID.bl', 'Ventricles.bl',\n",
       "       'Hippocampus.bl', 'WholeBrain.bl', 'Entorhinal.bl', 'Fusiform.bl',\n",
       "       'MidTemp.bl', 'ICV.bl', 'MOCA.bl', 'EcogPtMem.bl', 'EcogPtLang.bl',\n",
       "       'EcogPtVisspat.bl', 'EcogPtPlan.bl', 'EcogPtOrgan.bl',\n",
       "       'EcogPtDivatt.bl', 'EcogPtTotal.bl', 'EcogSPMem.bl',\n",
       "       'EcogSPLang.bl', 'EcogSPVisspat.bl', 'EcogSPPlan.bl',\n",
       "       'EcogSPOrgan.bl', 'EcogSPDivatt.bl', 'EcogSPTotal.bl', 'ABETA.bl',\n",
       "       'TAU.bl', 'PTAU.bl', 'FDG.bl', 'PIB.bl', 'AV45.bl', 'Years.bl',\n",
       "       'Month.bl', 'Month', 'M'], dtype=object)"
      ]
     },
     "execution_count": 56,
     "metadata": {},
     "output_type": "execute_result"
    }
   ],
   "source": [
    "mydata.columns.values"
   ]
  },
  {
   "cell_type": "code",
   "execution_count": 57,
   "metadata": {
    "slideshow": {
     "slide_type": "subslide"
    }
   },
   "outputs": [
    {
     "data": {
      "text/plain": [
       "Ventricles.bl       3.749008e+04\n",
       "Hippocampus.bl      6.741318e+03\n",
       "WholeBrain.bl       1.015535e+06\n",
       "Entorhinal.bl       3.493494e+03\n",
       "Fusiform.bl         1.760281e+04\n",
       "MidTemp.bl          1.962305e+04\n",
       "ICV.bl              1.518251e+06\n",
       "MOCA.bl             2.334091e+01\n",
       "EcogPtMem.bl        2.101055e+00\n",
       "EcogPtLang.bl       1.662202e+00\n",
       "EcogPtVisspat.bl    1.351190e+00\n",
       "EcogPtPlan.bl       1.336364e+00\n",
       "EcogPtOrgan.bl      1.483712e+00\n",
       "EcogPtDivatt.bl     1.704545e+00\n",
       "EcogPtTotal.bl      1.630483e+00\n",
       "EcogSPMem.bl        2.126190e+00\n",
       "EcogSPLang.bl       1.608951e+00\n",
       "EcogSPVisspat.bl    1.418307e+00\n",
       "EcogSPPlan.bl       1.628889e+00\n",
       "EcogSPOrgan.bl      1.767054e+00\n",
       "EcogSPDivatt.bl     1.782197e+00\n",
       "EcogSPTotal.bl      1.722775e+00\n",
       "dtype: float64"
      ]
     },
     "execution_count": 57,
     "metadata": {},
     "output_type": "execute_result"
    }
   ],
   "source": [
    "#the apply function can be aused to extract means for columns\n",
    "mydata.loc[:,\"Ventricles.bl\":\"EcogSPTotal.bl\"].apply(np.mean, axis=0)"
   ]
  },
  {
   "cell_type": "code",
   "execution_count": 58,
   "metadata": {
    "slideshow": {
     "slide_type": "subslide"
    }
   },
   "outputs": [
    {
     "data": {
      "text/plain": [
       "Ventricles.bl        8\n",
       "Hippocampus.bl      15\n",
       "WholeBrain.bl        6\n",
       "Entorhinal.bl       19\n",
       "Fusiform.bl         19\n",
       "MidTemp.bl          19\n",
       "ICV.bl               5\n",
       "MOCA.bl             56\n",
       "EcogPtMem.bl        56\n",
       "EcogPtLang.bl       56\n",
       "EcogPtVisspat.bl    56\n",
       "EcogPtPlan.bl       56\n",
       "EcogPtOrgan.bl      56\n",
       "EcogPtDivatt.bl     56\n",
       "EcogPtTotal.bl      56\n",
       "EcogSPMem.bl        55\n",
       "EcogSPLang.bl       55\n",
       "EcogSPVisspat.bl    55\n",
       "EcogSPPlan.bl       55\n",
       "EcogSPOrgan.bl      57\n",
       "EcogSPDivatt.bl     56\n",
       "EcogSPTotal.bl      55\n",
       "dtype: int64"
      ]
     },
     "execution_count": 58,
     "metadata": {},
     "output_type": "execute_result"
    }
   ],
   "source": [
    "#but any function can be applied to either the entire column\n",
    "#here we count missing values per column\n",
    "mydata.loc[:,\"Ventricles.bl\":\"EcogSPTotal.bl\"].apply(lambda x: sum(pd.isna(x)), axis=0)"
   ]
  },
  {
   "cell_type": "code",
   "execution_count": 59,
   "metadata": {
    "slideshow": {
     "slide_type": "subslide"
    }
   },
   "outputs": [
    {
     "data": {
      "text/plain": [
       "PTID\n",
       "011_S_0016    15\n",
       "023_S_0030    19\n",
       "023_S_0058    15\n",
       "010_S_0067    15\n",
       "136_S_0107    15\n",
       "123_S_0108    15\n",
       "027_S_0118    19\n",
       "027_S_0120    15\n",
       "007_S_0128    15\n",
       "037_S_0150    15\n",
       "128_S_0188    15\n",
       "130_S_0232    15\n",
       "021_S_0276    15\n",
       "072_S_0315    15\n",
       "082_S_0363    15\n",
       "023_S_0376    15\n",
       "002_S_0413    15\n",
       "131_S_0441    19\n",
       "027_S_0461    15\n",
       "128_S_0517    15\n",
       "073_S_0518    15\n",
       "035_S_0555    15\n",
       "037_S_0566    15\n",
       "012_S_0637    15\n",
       "021_S_0642    15\n",
       "036_S_0673    15\n",
       "012_S_0689    15\n",
       "062_S_0690    19\n",
       "126_S_0708    15\n",
       "033_S_0733    15\n",
       "              ..\n",
       "005_S_4168     0\n",
       "116_S_4175     0\n",
       "033_S_4176     7\n",
       "067_S_4184     0\n",
       "941_S_4187     0\n",
       "127_S_4197     0\n",
       "019_S_4252     0\n",
       "011_S_4278     1\n",
       "941_S_4376     3\n",
       "135_S_4446     0\n",
       "109_S_4499     0\n",
       "016_S_4591     1\n",
       "135_S_4598     1\n",
       "072_S_4613     0\n",
       "041_S_4629     3\n",
       "116_S_4732     4\n",
       "072_S_4769     0\n",
       "067_S_4782     0\n",
       "116_S_4855     1\n",
       "027_S_4873     0\n",
       "037_S_4879     0\n",
       "052_S_5062     3\n",
       "006_S_5153     0\n",
       "029_S_5166     0\n",
       "021_S_5194     5\n",
       "127_S_5266     0\n",
       "035_S_6200     7\n",
       "003_S_6307     7\n",
       "007_S_6341     8\n",
       "019_S_6712    14\n",
       "Length: 100, dtype: int64"
      ]
     },
     "execution_count": 59,
     "metadata": {},
     "output_type": "execute_result"
    }
   ],
   "source": [
    "#but any function can be applied to either the entire row\n",
    "#here we count missing values per row\n",
    "mydata.loc[:,\"Ventricles.bl\":\"EcogSPTotal.bl\"].apply(lambda x: sum(pd.isna(x)), axis=1)"
   ]
  },
  {
   "cell_type": "code",
   "execution_count": 60,
   "metadata": {
    "slideshow": {
     "slide_type": "subslide"
    }
   },
   "outputs": [
    {
     "ename": "AttributeError",
     "evalue": "'DataFrame' object has no attribute 'to_numpy'",
     "output_type": "error",
     "traceback": [
      "\u001b[0;31m---------------------------------------------------------------------------\u001b[0m",
      "\u001b[0;31mAttributeError\u001b[0m                            Traceback (most recent call last)",
      "\u001b[0;32m<ipython-input-60-d293cef5a8c6>\u001b[0m in \u001b[0;36m<module>\u001b[0;34m\u001b[0m\n\u001b[1;32m      1\u001b[0m \u001b[0;31m#in the newest version this should work\u001b[0m\u001b[0;34m\u001b[0m\u001b[0;34m\u001b[0m\u001b[0;34m\u001b[0m\u001b[0m\n\u001b[0;32m----> 2\u001b[0;31m \u001b[0mmydata\u001b[0m\u001b[0;34m.\u001b[0m\u001b[0mloc\u001b[0m\u001b[0;34m[\u001b[0m\u001b[0;34m:\u001b[0m\u001b[0;34m,\u001b[0m\u001b[0;34m\"Ventricles.bl\"\u001b[0m\u001b[0;34m:\u001b[0m\u001b[0;34m\"EcogSPTotal.bl\"\u001b[0m\u001b[0;34m]\u001b[0m\u001b[0;34m.\u001b[0m\u001b[0mto_numpy\u001b[0m\u001b[0;34m(\u001b[0m\u001b[0;34m)\u001b[0m\u001b[0;34m\u001b[0m\u001b[0;34m\u001b[0m\u001b[0m\n\u001b[0m",
      "\u001b[0;32m/opt/local/Library/Frameworks/Python.framework/Versions/3.6/lib/python3.6/site-packages/pandas/core/generic.py\u001b[0m in \u001b[0;36m__getattr__\u001b[0;34m(self, name)\u001b[0m\n\u001b[1;32m   4374\u001b[0m             \u001b[0;32mif\u001b[0m \u001b[0mself\u001b[0m\u001b[0;34m.\u001b[0m\u001b[0m_info_axis\u001b[0m\u001b[0;34m.\u001b[0m\u001b[0m_can_hold_identifiers_and_holds_name\u001b[0m\u001b[0;34m(\u001b[0m\u001b[0mname\u001b[0m\u001b[0;34m)\u001b[0m\u001b[0;34m:\u001b[0m\u001b[0;34m\u001b[0m\u001b[0;34m\u001b[0m\u001b[0m\n\u001b[1;32m   4375\u001b[0m                 \u001b[0;32mreturn\u001b[0m \u001b[0mself\u001b[0m\u001b[0;34m[\u001b[0m\u001b[0mname\u001b[0m\u001b[0;34m]\u001b[0m\u001b[0;34m\u001b[0m\u001b[0;34m\u001b[0m\u001b[0m\n\u001b[0;32m-> 4376\u001b[0;31m             \u001b[0;32mreturn\u001b[0m \u001b[0mobject\u001b[0m\u001b[0;34m.\u001b[0m\u001b[0m__getattribute__\u001b[0m\u001b[0;34m(\u001b[0m\u001b[0mself\u001b[0m\u001b[0;34m,\u001b[0m \u001b[0mname\u001b[0m\u001b[0;34m)\u001b[0m\u001b[0;34m\u001b[0m\u001b[0;34m\u001b[0m\u001b[0m\n\u001b[0m\u001b[1;32m   4377\u001b[0m \u001b[0;34m\u001b[0m\u001b[0m\n\u001b[1;32m   4378\u001b[0m     \u001b[0;32mdef\u001b[0m \u001b[0m__setattr__\u001b[0m\u001b[0;34m(\u001b[0m\u001b[0mself\u001b[0m\u001b[0;34m,\u001b[0m \u001b[0mname\u001b[0m\u001b[0;34m,\u001b[0m \u001b[0mvalue\u001b[0m\u001b[0;34m)\u001b[0m\u001b[0;34m:\u001b[0m\u001b[0;34m\u001b[0m\u001b[0;34m\u001b[0m\u001b[0m\n",
      "\u001b[0;31mAttributeError\u001b[0m: 'DataFrame' object has no attribute 'to_numpy'"
     ]
    }
   ],
   "source": [
    "#in the newest version this should work\n",
    "mydata.loc[:,\"Ventricles.bl\":\"EcogSPTotal.bl\"].to_numpy()"
   ]
  },
  {
   "cell_type": "code",
   "execution_count": 62,
   "metadata": {
    "slideshow": {
     "slide_type": "subslide"
    }
   },
   "outputs": [
    {
     "data": {
      "text/plain": [
       "array([[1.73150000e+04, 7.30900000e+03, 9.36539000e+05, ...,\n",
       "                   nan,            nan,            nan],\n",
       "       [2.22740000e+04,            nan, 1.04024600e+06, ...,\n",
       "                   nan,            nan,            nan],\n",
       "       [2.36470000e+04, 7.98700000e+03, 1.01420900e+06, ...,\n",
       "                   nan,            nan,            nan],\n",
       "       ...,\n",
       "       [           nan,            nan,            nan, ...,\n",
       "        1.00000000e+00, 1.00000000e+00, 1.00000000e+00],\n",
       "       [           nan,            nan,            nan, ...,\n",
       "        2.83333333e+00, 1.25000000e+00, 2.18421053e+00],\n",
       "       [           nan,            nan,            nan, ...,\n",
       "        2.50000000e+00, 2.50000000e+00, 2.05263158e+00]])"
      ]
     },
     "execution_count": 62,
     "metadata": {},
     "output_type": "execute_result"
    }
   ],
   "source": [
    "#this still works\n",
    "np.array(mydata.loc[:,\"Ventricles.bl\":\"EcogSPTotal.bl\"])"
   ]
  },
  {
   "cell_type": "code",
   "execution_count": 65,
   "metadata": {
    "slideshow": {
     "slide_type": "slide"
    }
   },
   "outputs": [
    {
     "data": {
      "text/html": [
       "<div>\n",
       "<style scoped>\n",
       "    .dataframe tbody tr th:only-of-type {\n",
       "        vertical-align: middle;\n",
       "    }\n",
       "\n",
       "    .dataframe tbody tr th {\n",
       "        vertical-align: top;\n",
       "    }\n",
       "\n",
       "    .dataframe thead th {\n",
       "        text-align: right;\n",
       "    }\n",
       "</style>\n",
       "<table border=\"1\" class=\"dataframe\">\n",
       "  <thead>\n",
       "    <tr style=\"text-align: right;\">\n",
       "      <th></th>\n",
       "      <th>RID</th>\n",
       "      <th>COLPROT</th>\n",
       "      <th>ORIGPROT</th>\n",
       "      <th>PTID</th>\n",
       "      <th>SITE</th>\n",
       "      <th>VISCODE</th>\n",
       "      <th>EXAMDATE</th>\n",
       "      <th>DX.bl</th>\n",
       "      <th>AGE</th>\n",
       "      <th>PTGENDER</th>\n",
       "      <th>...</th>\n",
       "      <th>ABETA.bl</th>\n",
       "      <th>TAU.bl</th>\n",
       "      <th>PTAU.bl</th>\n",
       "      <th>FDG.bl</th>\n",
       "      <th>PIB.bl</th>\n",
       "      <th>AV45.bl</th>\n",
       "      <th>Years.bl</th>\n",
       "      <th>Month.bl</th>\n",
       "      <th>Month</th>\n",
       "      <th>M</th>\n",
       "    </tr>\n",
       "    <tr>\n",
       "      <th>PTID</th>\n",
       "      <th></th>\n",
       "      <th></th>\n",
       "      <th></th>\n",
       "      <th></th>\n",
       "      <th></th>\n",
       "      <th></th>\n",
       "      <th></th>\n",
       "      <th></th>\n",
       "      <th></th>\n",
       "      <th></th>\n",
       "      <th></th>\n",
       "      <th></th>\n",
       "      <th></th>\n",
       "      <th></th>\n",
       "      <th></th>\n",
       "      <th></th>\n",
       "      <th></th>\n",
       "      <th></th>\n",
       "      <th></th>\n",
       "      <th></th>\n",
       "      <th></th>\n",
       "    </tr>\n",
       "  </thead>\n",
       "  <tbody>\n",
       "    <tr>\n",
       "      <th>062_S_1182</th>\n",
       "      <td>1182</td>\n",
       "      <td>ADNI1</td>\n",
       "      <td>ADNI1</td>\n",
       "      <td>062_S_1182</td>\n",
       "      <td>62</td>\n",
       "      <td>m18</td>\n",
       "      <td>2008-08-22</td>\n",
       "      <td>LMCI</td>\n",
       "      <td>76.0</td>\n",
       "      <td>Female</td>\n",
       "      <td>...</td>\n",
       "      <td>NaN</td>\n",
       "      <td>NaN</td>\n",
       "      <td>NaN</td>\n",
       "      <td>NaN</td>\n",
       "      <td>NaN</td>\n",
       "      <td>NaN</td>\n",
       "      <td>1.522245</td>\n",
       "      <td>18.229508</td>\n",
       "      <td>18</td>\n",
       "      <td>18</td>\n",
       "    </tr>\n",
       "    <tr>\n",
       "      <th>128_S_0517</th>\n",
       "      <td>517</td>\n",
       "      <td>ADNI1</td>\n",
       "      <td>ADNI1</td>\n",
       "      <td>128_S_0517</td>\n",
       "      <td>128</td>\n",
       "      <td>bl</td>\n",
       "      <td>2006-06-08</td>\n",
       "      <td>AD</td>\n",
       "      <td>81.8</td>\n",
       "      <td>Male</td>\n",
       "      <td>...</td>\n",
       "      <td>NaN</td>\n",
       "      <td>NaN</td>\n",
       "      <td>NaN</td>\n",
       "      <td>NaN</td>\n",
       "      <td>NaN</td>\n",
       "      <td>NaN</td>\n",
       "      <td>0.000000</td>\n",
       "      <td>0.000000</td>\n",
       "      <td>0</td>\n",
       "      <td>0</td>\n",
       "    </tr>\n",
       "    <tr>\n",
       "      <th>012_S_0689</th>\n",
       "      <td>689</td>\n",
       "      <td>ADNI1</td>\n",
       "      <td>ADNI1</td>\n",
       "      <td>012_S_0689</td>\n",
       "      <td>12</td>\n",
       "      <td>bl</td>\n",
       "      <td>2006-07-19</td>\n",
       "      <td>AD</td>\n",
       "      <td>63.6</td>\n",
       "      <td>Male</td>\n",
       "      <td>...</td>\n",
       "      <td>NaN</td>\n",
       "      <td>NaN</td>\n",
       "      <td>NaN</td>\n",
       "      <td>NaN</td>\n",
       "      <td>NaN</td>\n",
       "      <td>NaN</td>\n",
       "      <td>0.000000</td>\n",
       "      <td>0.000000</td>\n",
       "      <td>0</td>\n",
       "      <td>0</td>\n",
       "    </tr>\n",
       "    <tr>\n",
       "      <th>052_S_1250</th>\n",
       "      <td>1250</td>\n",
       "      <td>ADNI2</td>\n",
       "      <td>ADNI1</td>\n",
       "      <td>052_S_1250</td>\n",
       "      <td>52</td>\n",
       "      <td>m78</td>\n",
       "      <td>2013-08-21</td>\n",
       "      <td>CN</td>\n",
       "      <td>73.2</td>\n",
       "      <td>Female</td>\n",
       "      <td>...</td>\n",
       "      <td>1643</td>\n",
       "      <td>177.8</td>\n",
       "      <td>16.84</td>\n",
       "      <td>NaN</td>\n",
       "      <td>NaN</td>\n",
       "      <td>NaN</td>\n",
       "      <td>6.510609</td>\n",
       "      <td>77.967213</td>\n",
       "      <td>78</td>\n",
       "      <td>78</td>\n",
       "    </tr>\n",
       "    <tr>\n",
       "      <th>128_S_1406</th>\n",
       "      <td>1406</td>\n",
       "      <td>ADNI1</td>\n",
       "      <td>ADNI1</td>\n",
       "      <td>128_S_1406</td>\n",
       "      <td>128</td>\n",
       "      <td>m24</td>\n",
       "      <td>2009-06-24</td>\n",
       "      <td>LMCI</td>\n",
       "      <td>61.1</td>\n",
       "      <td>Female</td>\n",
       "      <td>...</td>\n",
       "      <td>NaN</td>\n",
       "      <td>NaN</td>\n",
       "      <td>NaN</td>\n",
       "      <td>1.457533</td>\n",
       "      <td>1.18</td>\n",
       "      <td>NaN</td>\n",
       "      <td>2.006845</td>\n",
       "      <td>24.032787</td>\n",
       "      <td>24</td>\n",
       "      <td>24</td>\n",
       "    </tr>\n",
       "  </tbody>\n",
       "</table>\n",
       "<p>5 rows × 113 columns</p>\n",
       "</div>"
      ],
      "text/plain": [
       "             RID COLPROT ORIGPROT        PTID  SITE VISCODE    EXAMDATE DX.bl  \\\n",
       "PTID                                                                            \n",
       "062_S_1182  1182   ADNI1    ADNI1  062_S_1182    62     m18  2008-08-22  LMCI   \n",
       "128_S_0517   517   ADNI1    ADNI1  128_S_0517   128      bl  2006-06-08    AD   \n",
       "012_S_0689   689   ADNI1    ADNI1  012_S_0689    12      bl  2006-07-19    AD   \n",
       "052_S_1250  1250   ADNI2    ADNI1  052_S_1250    52     m78  2013-08-21    CN   \n",
       "128_S_1406  1406   ADNI1    ADNI1  128_S_1406   128     m24  2009-06-24  LMCI   \n",
       "\n",
       "             AGE PTGENDER ...  ABETA.bl TAU.bl PTAU.bl    FDG.bl  PIB.bl  \\\n",
       "PTID                      ...                                              \n",
       "062_S_1182  76.0   Female ...       NaN    NaN     NaN       NaN     NaN   \n",
       "128_S_0517  81.8     Male ...       NaN    NaN     NaN       NaN     NaN   \n",
       "012_S_0689  63.6     Male ...       NaN    NaN     NaN       NaN     NaN   \n",
       "052_S_1250  73.2   Female ...      1643  177.8   16.84       NaN     NaN   \n",
       "128_S_1406  61.1   Female ...       NaN    NaN     NaN  1.457533    1.18   \n",
       "\n",
       "            AV45.bl  Years.bl   Month.bl Month   M  \n",
       "PTID                                                \n",
       "062_S_1182      NaN  1.522245  18.229508    18  18  \n",
       "128_S_0517      NaN  0.000000   0.000000     0   0  \n",
       "012_S_0689      NaN  0.000000   0.000000     0   0  \n",
       "052_S_1250      NaN  6.510609  77.967213    78  78  \n",
       "128_S_1406      NaN  2.006845  24.032787    24  24  \n",
       "\n",
       "[5 rows x 113 columns]"
      ]
     },
     "execution_count": 65,
     "metadata": {},
     "output_type": "execute_result"
    }
   ],
   "source": [
    "#get a rnadom sample of the data\n",
    "mydata.sample(5)"
   ]
  },
  {
   "cell_type": "code",
   "execution_count": 66,
   "metadata": {
    "slideshow": {
     "slide_type": "fragment"
    }
   },
   "outputs": [
    {
     "data": {
      "text/html": [
       "<div>\n",
       "<style scoped>\n",
       "    .dataframe tbody tr th:only-of-type {\n",
       "        vertical-align: middle;\n",
       "    }\n",
       "\n",
       "    .dataframe tbody tr th {\n",
       "        vertical-align: top;\n",
       "    }\n",
       "\n",
       "    .dataframe thead th {\n",
       "        text-align: right;\n",
       "    }\n",
       "</style>\n",
       "<table border=\"1\" class=\"dataframe\">\n",
       "  <thead>\n",
       "    <tr style=\"text-align: right;\">\n",
       "      <th></th>\n",
       "      <th>RID</th>\n",
       "      <th>COLPROT</th>\n",
       "      <th>ORIGPROT</th>\n",
       "      <th>PTID</th>\n",
       "      <th>SITE</th>\n",
       "      <th>VISCODE</th>\n",
       "      <th>EXAMDATE</th>\n",
       "      <th>DX.bl</th>\n",
       "      <th>AGE</th>\n",
       "      <th>PTGENDER</th>\n",
       "      <th>...</th>\n",
       "      <th>ABETA.bl</th>\n",
       "      <th>TAU.bl</th>\n",
       "      <th>PTAU.bl</th>\n",
       "      <th>FDG.bl</th>\n",
       "      <th>PIB.bl</th>\n",
       "      <th>AV45.bl</th>\n",
       "      <th>Years.bl</th>\n",
       "      <th>Month.bl</th>\n",
       "      <th>Month</th>\n",
       "      <th>M</th>\n",
       "    </tr>\n",
       "    <tr>\n",
       "      <th>PTID</th>\n",
       "      <th></th>\n",
       "      <th></th>\n",
       "      <th></th>\n",
       "      <th></th>\n",
       "      <th></th>\n",
       "      <th></th>\n",
       "      <th></th>\n",
       "      <th></th>\n",
       "      <th></th>\n",
       "      <th></th>\n",
       "      <th></th>\n",
       "      <th></th>\n",
       "      <th></th>\n",
       "      <th></th>\n",
       "      <th></th>\n",
       "      <th></th>\n",
       "      <th></th>\n",
       "      <th></th>\n",
       "      <th></th>\n",
       "      <th></th>\n",
       "      <th></th>\n",
       "    </tr>\n",
       "  </thead>\n",
       "  <tbody>\n",
       "    <tr>\n",
       "      <th>027_S_0118</th>\n",
       "      <td>118</td>\n",
       "      <td>ADNI1</td>\n",
       "      <td>ADNI1</td>\n",
       "      <td>027_S_0118</td>\n",
       "      <td>27</td>\n",
       "      <td>m42</td>\n",
       "      <td>2009-08-18</td>\n",
       "      <td>CN</td>\n",
       "      <td>80.4</td>\n",
       "      <td>Male</td>\n",
       "      <td>...</td>\n",
       "      <td>1467</td>\n",
       "      <td>195.3</td>\n",
       "      <td>16.23</td>\n",
       "      <td>NaN</td>\n",
       "      <td>NaN</td>\n",
       "      <td>NaN</td>\n",
       "      <td>3.518138</td>\n",
       "      <td>42.131148</td>\n",
       "      <td>42</td>\n",
       "      <td>42</td>\n",
       "    </tr>\n",
       "    <tr>\n",
       "      <th>094_S_1164</th>\n",
       "      <td>1164</td>\n",
       "      <td>ADNI1</td>\n",
       "      <td>ADNI1</td>\n",
       "      <td>094_S_1164</td>\n",
       "      <td>94</td>\n",
       "      <td>m06</td>\n",
       "      <td>2007-06-28</td>\n",
       "      <td>AD</td>\n",
       "      <td>69.5</td>\n",
       "      <td>Female</td>\n",
       "      <td>...</td>\n",
       "      <td>NaN</td>\n",
       "      <td>NaN</td>\n",
       "      <td>NaN</td>\n",
       "      <td>0.862583</td>\n",
       "      <td>NaN</td>\n",
       "      <td>NaN</td>\n",
       "      <td>0.517454</td>\n",
       "      <td>6.196721</td>\n",
       "      <td>6</td>\n",
       "      <td>6</td>\n",
       "    </tr>\n",
       "    <tr>\n",
       "      <th>033_S_0733</th>\n",
       "      <td>733</td>\n",
       "      <td>ADNI1</td>\n",
       "      <td>ADNI1</td>\n",
       "      <td>033_S_0733</td>\n",
       "      <td>33</td>\n",
       "      <td>m06</td>\n",
       "      <td>2007-02-02</td>\n",
       "      <td>AD</td>\n",
       "      <td>57.1</td>\n",
       "      <td>Female</td>\n",
       "      <td>...</td>\n",
       "      <td>711.9</td>\n",
       "      <td>456.8</td>\n",
       "      <td>45.20</td>\n",
       "      <td>NaN</td>\n",
       "      <td>NaN</td>\n",
       "      <td>NaN</td>\n",
       "      <td>0.509240</td>\n",
       "      <td>6.098361</td>\n",
       "      <td>6</td>\n",
       "      <td>6</td>\n",
       "    </tr>\n",
       "    <tr>\n",
       "      <th>141_S_4053</th>\n",
       "      <td>4053</td>\n",
       "      <td>ADNI2</td>\n",
       "      <td>ADNI2</td>\n",
       "      <td>141_S_4053</td>\n",
       "      <td>141</td>\n",
       "      <td>m18</td>\n",
       "      <td>2012-12-14</td>\n",
       "      <td>LMCI</td>\n",
       "      <td>75.3</td>\n",
       "      <td>Male</td>\n",
       "      <td>...</td>\n",
       "      <td>879</td>\n",
       "      <td>549.7</td>\n",
       "      <td>50.45</td>\n",
       "      <td>1.093726</td>\n",
       "      <td>NaN</td>\n",
       "      <td>1.471507</td>\n",
       "      <td>1.516769</td>\n",
       "      <td>18.163934</td>\n",
       "      <td>18</td>\n",
       "      <td>18</td>\n",
       "    </tr>\n",
       "    <tr>\n",
       "      <th>941_S_4036</th>\n",
       "      <td>4036</td>\n",
       "      <td>ADNI2</td>\n",
       "      <td>ADNI2</td>\n",
       "      <td>941_S_4036</td>\n",
       "      <td>941</td>\n",
       "      <td>bl</td>\n",
       "      <td>2011-07-06</td>\n",
       "      <td>EMCI</td>\n",
       "      <td>74.0</td>\n",
       "      <td>Male</td>\n",
       "      <td>...</td>\n",
       "      <td>&gt;1700</td>\n",
       "      <td>245.0</td>\n",
       "      <td>19.84</td>\n",
       "      <td>1.615628</td>\n",
       "      <td>NaN</td>\n",
       "      <td>1.008047</td>\n",
       "      <td>0.000000</td>\n",
       "      <td>0.000000</td>\n",
       "      <td>0</td>\n",
       "      <td>0</td>\n",
       "    </tr>\n",
       "  </tbody>\n",
       "</table>\n",
       "<p>5 rows × 113 columns</p>\n",
       "</div>"
      ],
      "text/plain": [
       "             RID COLPROT ORIGPROT        PTID  SITE VISCODE    EXAMDATE DX.bl  \\\n",
       "PTID                                                                            \n",
       "027_S_0118   118   ADNI1    ADNI1  027_S_0118    27     m42  2009-08-18    CN   \n",
       "094_S_1164  1164   ADNI1    ADNI1  094_S_1164    94     m06  2007-06-28    AD   \n",
       "033_S_0733   733   ADNI1    ADNI1  033_S_0733    33     m06  2007-02-02    AD   \n",
       "141_S_4053  4053   ADNI2    ADNI2  141_S_4053   141     m18  2012-12-14  LMCI   \n",
       "941_S_4036  4036   ADNI2    ADNI2  941_S_4036   941      bl  2011-07-06  EMCI   \n",
       "\n",
       "             AGE PTGENDER ...  ABETA.bl TAU.bl PTAU.bl    FDG.bl  PIB.bl  \\\n",
       "PTID                      ...                                              \n",
       "027_S_0118  80.4     Male ...      1467  195.3   16.23       NaN     NaN   \n",
       "094_S_1164  69.5   Female ...       NaN    NaN     NaN  0.862583     NaN   \n",
       "033_S_0733  57.1   Female ...     711.9  456.8   45.20       NaN     NaN   \n",
       "141_S_4053  75.3     Male ...       879  549.7   50.45  1.093726     NaN   \n",
       "941_S_4036  74.0     Male ...     >1700  245.0   19.84  1.615628     NaN   \n",
       "\n",
       "             AV45.bl  Years.bl   Month.bl Month   M  \n",
       "PTID                                                 \n",
       "027_S_0118       NaN  3.518138  42.131148    42  42  \n",
       "094_S_1164       NaN  0.517454   6.196721     6   6  \n",
       "033_S_0733       NaN  0.509240   6.098361     6   6  \n",
       "141_S_4053  1.471507  1.516769  18.163934    18  18  \n",
       "941_S_4036  1.008047  0.000000   0.000000     0   0  \n",
       "\n",
       "[5 rows x 113 columns]"
      ]
     },
     "execution_count": 66,
     "metadata": {},
     "output_type": "execute_result"
    }
   ],
   "source": [
    "#will change every time we call it\n",
    "mydata.sample(5)"
   ]
  },
  {
   "cell_type": "markdown",
   "metadata": {
    "slideshow": {
     "slide_type": "slide"
    }
   },
   "source": [
    "### Simple plots in Python with pandas"
   ]
  },
  {
   "cell_type": "code",
   "execution_count": 68,
   "metadata": {
    "slideshow": {
     "slide_type": "subslide"
    }
   },
   "outputs": [
    {
     "data": {
      "text/plain": [
       "<matplotlib.axes._subplots.AxesSubplot at 0x116ddc0b8>"
      ]
     },
     "execution_count": 68,
     "metadata": {},
     "output_type": "execute_result"
    },
    {
     "data": {
      "image/png": "[encoded data removed]",
      "text/plain": [
       "<Figure size 432x288 with 1 Axes>"
      ]
     },
     "metadata": {
      "needs_background": "light"
     },
     "output_type": "display_data"
    }
   ],
   "source": [
    "#simple plots: boxplot\n",
    "mydata.boxplot(column=\"MMSE.bl\", by=\"DX\")"
   ]
  },
  {
   "cell_type": "code",
   "execution_count": 69,
   "metadata": {
    "slideshow": {
     "slide_type": "subslide"
    }
   },
   "outputs": [
    {
     "data": {
      "text/plain": [
       "<matplotlib.axes._subplots.AxesSubplot at 0x116e63c88>"
      ]
     },
     "execution_count": 69,
     "metadata": {},
     "output_type": "execute_result"
    },
    {
     "data": {
      "image/png": "[encoded data removed]",
      "text/plain": [
       "<Figure size 432x288 with 1 Axes>"
      ]
     },
     "metadata": {
      "needs_background": "light"
     },
     "output_type": "display_data"
    }
   ],
   "source": [
    "#scatter plot\n",
    "mydata.plot.scatter(x=\"AGE\" , y=\"ADAS13\")"
   ]
  },
  {
   "cell_type": "code",
   "execution_count": 70,
   "metadata": {
    "slideshow": {
     "slide_type": "slide"
    }
   },
   "outputs": [
    {
     "data": {
      "text/html": [
       "<div>\n",
       "<style scoped>\n",
       "    .dataframe tbody tr th:only-of-type {\n",
       "        vertical-align: middle;\n",
       "    }\n",
       "\n",
       "    .dataframe tbody tr th {\n",
       "        vertical-align: top;\n",
       "    }\n",
       "\n",
       "    .dataframe thead th {\n",
       "        text-align: right;\n",
       "    }\n",
       "</style>\n",
       "<table border=\"1\" class=\"dataframe\">\n",
       "  <thead>\n",
       "    <tr style=\"text-align: right;\">\n",
       "      <th></th>\n",
       "      <th>class</th>\n",
       "      <th>X1</th>\n",
       "      <th>X2</th>\n",
       "    </tr>\n",
       "  </thead>\n",
       "  <tbody>\n",
       "    <tr>\n",
       "      <th>0</th>\n",
       "      <td>1</td>\n",
       "      <td>-0.102815</td>\n",
       "      <td>0.102419</td>\n",
       "    </tr>\n",
       "    <tr>\n",
       "      <th>1</th>\n",
       "      <td>1</td>\n",
       "      <td>-0.808372</td>\n",
       "      <td>0.235491</td>\n",
       "    </tr>\n",
       "    <tr>\n",
       "      <th>2</th>\n",
       "      <td>1</td>\n",
       "      <td>0.909965</td>\n",
       "      <td>-0.959674</td>\n",
       "    </tr>\n",
       "    <tr>\n",
       "      <th>3</th>\n",
       "      <td>1</td>\n",
       "      <td>1.096935</td>\n",
       "      <td>0.772830</td>\n",
       "    </tr>\n",
       "    <tr>\n",
       "      <th>4</th>\n",
       "      <td>1</td>\n",
       "      <td>-0.889150</td>\n",
       "      <td>-0.251379</td>\n",
       "    </tr>\n",
       "  </tbody>\n",
       "</table>\n",
       "</div>"
      ],
      "text/plain": [
       "   class        X1        X2\n",
       "0      1 -0.102815  0.102419\n",
       "1      1 -0.808372  0.235491\n",
       "2      1  0.909965 -0.959674\n",
       "3      1  1.096935  0.772830\n",
       "4      1 -0.889150 -0.251379"
      ]
     },
     "execution_count": 70,
     "metadata": {},
     "output_type": "execute_result"
    }
   ],
   "source": [
    "circles=pd.read_csv(\"./example/circles.csv\")\n",
    "circles.head()"
   ]
  },
  {
   "cell_type": "code",
   "execution_count": 71,
   "metadata": {
    "slideshow": {
     "slide_type": "fragment"
    }
   },
   "outputs": [
    {
     "data": {
      "text/plain": [
       "<matplotlib.axes._subplots.AxesSubplot at 0x116f44ba8>"
      ]
     },
     "execution_count": 71,
     "metadata": {},
     "output_type": "execute_result"
    },
    {
     "data": {
      "image/png": "[encoded data removed]",
      "text/plain": [
       "<Figure size 432x288 with 1 Axes>"
      ]
     },
     "metadata": {
      "needs_background": "light"
     },
     "output_type": "display_data"
    }
   ],
   "source": [
    "circles.plot.scatter(x=\"X1\", y=\"X2\")"
   ]
  },
  {
   "cell_type": "code",
   "execution_count": 73,
   "metadata": {
    "slideshow": {
     "slide_type": "subslide"
    }
   },
   "outputs": [],
   "source": [
    "co=pd.Series(['b']*circles.shape[0])\n",
    "idx = circles.loc[:,\"class\"] == 2\n",
    "co[idx] = 'r'"
   ]
  },
  {
   "cell_type": "code",
   "execution_count": 74,
   "metadata": {
    "slideshow": {
     "slide_type": "fragment"
    }
   },
   "outputs": [
    {
     "data": {
      "text/plain": [
       "<matplotlib.axes._subplots.AxesSubplot at 0x116e46f28>"
      ]
     },
     "execution_count": 74,
     "metadata": {},
     "output_type": "execute_result"
    },
    {
     "data": {
      "image/png": "[encoded data removed]",
      "text/plain": [
       "<Figure size 432x288 with 1 Axes>"
      ]
     },
     "metadata": {
      "needs_background": "light"
     },
     "output_type": "display_data"
    }
   ],
   "source": [
    "circles.plot.scatter(x=\"X1\", y=\"X2\", c=co)"
   ]
  },
  {
   "cell_type": "markdown",
   "metadata": {
    "slideshow": {
     "slide_type": "slide"
    }
   },
   "source": [
    "## More advanced plotting"
   ]
  },
  {
   "cell_type": "markdown",
   "metadata": {
    "slideshow": {
     "slide_type": "fragment"
    }
   },
   "source": [
    "The librarary matplotlib provides more advanced options for plotting (publication quality plots!). More information here: https://matplotlib.org/"
   ]
  },
  {
   "cell_type": "code",
   "execution_count": 93,
   "metadata": {
    "slideshow": {
     "slide_type": "subslide"
    }
   },
   "outputs": [
    {
     "data": {
      "image/png": "[encoded data removed]",
      "text/plain": [
       "<Figure size 432x288 with 1 Axes>"
      ]
     },
     "metadata": {
      "needs_background": "light"
     },
     "output_type": "display_data"
    }
   ],
   "source": [
    "#darawing a straight line\n",
    "\n",
    "#generate values from -5 5\n",
    "myx = np.linspace(-5,5,100)\n",
    "myy = -2 + 1.3*myx\n",
    "matplotlib.pyplot.plot(myx, myy, '-r', label='f(x)')\n",
    "matplotlib.pyplot.title('Graph of f(X)')\n",
    "matplotlib.pyplot.xlabel('x', color='#1C2833')\n",
    "matplotlib.pyplot.ylabel('y', color='#1C2833')\n",
    "matplotlib.pyplot.legend(loc='upper left')\n",
    "matplotlib.pyplot.grid()\n",
    "matplotlib.pyplot.show()\n",
    "\n"
   ]
  },
  {
   "cell_type": "code",
   "execution_count": 102,
   "metadata": {
    "slideshow": {
     "slide_type": "subslide"
    }
   },
   "outputs": [
    {
     "data": {
      "image/png": "[encoded data removed]",
      "text/plain": [
       "<Figure size 432x288 with 1 Axes>"
      ]
     },
     "metadata": {
      "needs_background": "light"
     },
     "output_type": "display_data"
    }
   ],
   "source": [
    "#circle\n",
    "#generate values from -5 5\n",
    "myx = np.linspace(-3,3,100)\n",
    "myy1 = np.sqrt(9 - myx*myx)\n",
    "myy2 = myy1/-1.0\n",
    "matplotlib.pyplot.plot(myx, myy1, '-r', label='f(x)')\n",
    "matplotlib.pyplot.plot(myx, myy2, '-r')\n",
    "\n",
    "matplotlib.pyplot.title('Graph of f(X)')\n",
    "matplotlib.pyplot.xlabel('x', color='#1C2833')\n",
    "matplotlib.pyplot.ylabel('y', color='#1C2833')\n",
    "matplotlib.pyplot.legend(loc='upper left')\n",
    "matplotlib.pyplot.grid()\n",
    "matplotlib.pyplot.show()\n"
   ]
  },
  {
   "cell_type": "code",
   "execution_count": 130,
   "metadata": {
    "slideshow": {
     "slide_type": "subslide"
    }
   },
   "outputs": [
    {
     "data": {
      "image/png": "[encoded data removed]",
      "text/plain": [
       "<Figure size 432x288 with 1 Axes>"
      ]
     },
     "metadata": {
      "needs_background": "light"
     },
     "output_type": "display_data"
    }
   ],
   "source": [
    "matplotlib.pyplot.scatter(circles.X1, circles.X2, c=circles.loc[:,'class'])\n",
    "\n",
    "matplotlib.pyplot.plot(myx, myy1, '-r')\n",
    "matplotlib.pyplot.plot(myx, myy2, '-r')\n",
    "\n",
    "matplotlib.pyplot.title('Graph of f(X)')\n",
    "matplotlib.pyplot.xlabel('x', color='#1C2833')\n",
    "matplotlib.pyplot.ylabel('y', color='#1C2833')\n",
    "matplotlib.pyplot.grid()\n",
    "matplotlib.pyplot.show()\n"
   ]
  }
 ],
 "metadata": {
  "celltoolbar": "Slideshow",
  "kernelspec": {
   "display_name": "Python 3",
   "language": "python",
   "name": "python3"
  },
  "language_info": {
   "codemirror_mode": {
    "name": "ipython",
    "version": 3
   },
   "file_extension": ".py",
   "mimetype": "text/x-python",
   "name": "python",
   "nbconvert_exporter": "python",
   "pygments_lexer": "ipython3",
   "version": "3.7.4"
  }
 },
 "nbformat": 4,
 "nbformat_minor": 2
}
